{
 "cells": [
  {
   "cell_type": "markdown",
   "metadata": {},
   "source": [
    "# Кластеры"
   ]
  },
  {
   "cell_type": "markdown",
   "metadata": {},
   "source": [
    "# Конспект лекции\n",
    "\n",
    "## Комплексные соединения\n",
    "\n",
    "https://www.youtube.com/watch?v=NUDhHrRKA6s\n",
    "\n",
    "Помимо комплексов с одним центральным атомом металла известны комплексы состава $M_mL_n$ с мостиковыми лигандами и комплекусы со связями металл-металл, образующими цепочки, циклы и полиэдры (кластерные соединения).\n",
    "\n",
    "![](Figs/complex.png)"
   ]
  },
  {
   "cell_type": "markdown",
   "metadata": {},
   "source": [
    "\n",
    "## Терминология\n",
    "\n",
    "Термин «кластер» происходит от английского cluster — рой, гроздь, груда, скопление. В химии это понятие используется с 1966 г., когда американский химик Ф. А. Коттон предложил называть кластерами химические соединения, в которых атомы металла образуют между собой химическую связь. Коттон предположил, что переходные металлы в молекулах могут объединяться при помощи металлического типа связи. Такой подход позволил химикам определить структуру многих соединений, которые нельзя было объяснить раньше, например, соединений молибдена, ванадия, хрома.\n",
    "\n",
    "Хотя термин *кластер* стал использоваться сравнительно недавно, понятие небольшой группы атомов, ионов или молекул является естественным для химии: образование зародыша в процессе кристаллизации, формирование ассоциатов в жидкости. Кластеры стали рассматриваться как самостоятельный физический объект, начиная с 1980-х гг, когда экспериментально было показано, что твердые кластеры характеризуются *магическими числами*. При таких числах атомов в кластере зависимости таких характеристик как энергия связи атомов, потенциал ионизации атомов, энергия сродства к электрону и т.д. имеют экстремумы. Магические числа относятся к заполненным кластерным структурам.\n",
    "\n",
    "Интерес физиков и химиков к этим материалам первоначально был связан с тем, что кластер представляет форму организации вещества на пути от атома до конденсированного состояния. Изучение строения и динамики кластеров открывает путь к исследованию эффектов межмолекулярного взаимодействия и в конечном итоге к количественному описанию явлений в конденсированных средах. В процессе экспериментального изучения свойств все более мелких частиц можно выяснить размерные границы применимости теоретических концепций, первоначально развитых для массивных тел.\n",
    "\n",
    "Таким образом, переход от дискретного электронного энергетического спектра, свойственного отдельным атомам и молекула, к зонному электронному энергетическому спектру, характерному для твердого тела, происходит через кластеры. Отличительной чертой кластеров является немонотонная зависимость свойств от количества атомов в кластере. В нанокристаллических дисперсных материалах такая немонотонность отсутствует, и свойства меняются скорее в зависимости от размера частиц, чем их числа.\n",
    "\n",
    "## Классификация кластеров\n",
    "\n",
    "Кластер представляет собой группу из небольшого (счетного) и, в общем случае, переменного числа взаимодействующих атомов (ионов, молекул). Ясно, что минимальное число атомов в кластере равно двум. Верхней границе кластера соответствует такое число атомов, когда добавление еще одного атома уже не меняет свойства кластера, так как переход количественных изменений в качественные уже закончился. Положение верхней границы кластера неоднозначно, но с химической точки зрения большая часть изменений заканчивается, когда число атомов в группе не превышает 1-2 тысячи. Верхнюю границу размеров кластера можно рассматривать как границу между кластером и изолированной наночастицей.\n",
    "\n",
    "Понятие *кластер* объединяет в одну группу достаточно разнородные объекты:\n",
    "- Газовые безлигандные кластеры\n",
    "- Безлигандные кластеры металлов\n",
    "- Молекулярные кластеры металлов\n",
    "- Коллоидные кластеры\n",
    "- Матричные кластеры\n",
    "\n",
    "### Газовые кластеры\n",
    "Долгое время преобладало мнение, что в газообразных неорганических соединениях преобладают простые молекулы и атомы, а образование плазмы происходит лишь после полной атомизации вещества и основными носителями заряда являются электроны и ионизированные атомы. Это действительно так в случае соединений с молекулярной кристаллической решеткой, таких как O$_2$ и N$_2$ где силы межмолекулярного взаимодействия достаточно слабые. Для этих соединений характерна большая разница между энергиями фазовых переходов (менее 100 кДж/моль) и энергиями ионизации (более 900 кДж/моль), поэтому ионизация начинается при температурах, значительного превышающих критическую. Однако в случае других соединений картина становится сложнее.\n",
    "\n",
    "При адиабатическом расширении газ может совершать работу против внешних сил, например перемещать некоторый объект с массой $m$. При этом работа совершается за счет запаса внутренней энергии газа. В газодинамике вместо внутренней энергии $U$ оперируют функцией энтальпии $H = U + pV = U_0 + 5/2 RT$ (для одного моля идеального одноатомного газа). Если газ совершает работу в условиях тепловой (адиабатической) изоляции, его внутренняя энергия уменьшается на величину тепловой энергии $3/2 RT$ — усредненной кинетической энергии, происходит охлаждение газа. При достаточно сильном охлаждении начинается процесс конденсации. На первом этапе происходит ассоциация молекул, образующиеся ассоциаты увеличиваются в размерах вплоть до появления зародышей кристалла. Эти термодинамически неустойчивые ассоциаты получили название газовых кластеров.\n",
    "\n",
    "При адиабатном расширении газ может совершать работу против внешних сил. Если газ совершил работу $W$ в условиях тепловой (адиабатической) изоляции, то его внутренняя энергия уменьшилась на ту же самую величину $W$ и произошло охлаждение газа. При достаточно сильном охлаждении начинается процесс конденсации. На первом этапе происходит ассоциация молекул, имеющихся в насыщенном паре. Образующиеся при этом ассоциаты (кластеры) непрерывно увеличиваются в размерах вплоть до появления зародышей конденсированной фазы.\n",
    "\n",
    "В ходе эксперимента по получению кластеров давление в баллоне поддерживаться постоянным в пределах 1--10 атм. Расширение газа в вакуум осуществляется через отверстие, называемое соплом. Профиль сопла подбирают таким образом, чтобы способствовать формированию узкой газодинамической струи.\n",
    "\n",
    "Все газовые струи, с которыми мы сталкиваемся в жизни, являются газодинамическими, так как в них длина свободного пробега $\\lambda$ молекул воды, азота, кислорода много меньше диаметра $d$ самой струи ($\\lambda < d$) и, следовательно, молекулы активно взаимодействуют между собой. В экспериментальной физике и химии часто работают с молекулярными пучками, в которых соблюдается условие $\\lambda > d$, молекулы в потоке не претерпевают столкновений друг с другом и находятся в свободном полете. Так как длина свободного пробега $\\lambda$ обратно пропорциональна плотности частиц, при истечении в вакуум по мере удаления от сопла происходит смена режима течения газа от газодинамического к молекулярному. Эта смена происходит на некотором расстоянии от сопла $r_k$ после того, как плотность частиц в потоке уменьшается до $10^{14}$ см$^{-3}$, что примерно соответствует давлению 10$^{-10}$ Па и длине свободного пробега 10 см. Далее молекулярный поток подвергается масс-спектральному анализу и устанавливаются массы частиц, присутствующих в потоке. Естественно, что полученные таким путем данные характеризуют то состояние, в котором находился газ в момент смены режима течения, то есть на границе между газодинамическим и  молекулярным потоками (на выходе из газодинамической струи). Обычно это происходит на расстоянии в несколько диаметров сопла. В дальнейшем будем употреблять термин *на выходе* и сравним характеристики газа, находящегося в баллоне и на выходе газодинамической струи.\n",
    "\n",
    "При атмосферном давлении и комнатной температуре объемная плотность молекул в баллоне примерно $3 \\cdot 10^{19}$ см$^-3$, и скорость поступательного движения газа вдоль оси $x$ можно принять равной нулю, так как отбор газа, как правило, невелик по сравнению с массой газа в баллоне. Масса газа $m$, находящегося в 1 см$^3$ газодинамической струи, движется со скоростью $v_x$ вдоль оси $x$ и имеет кинетическую энергию поступательного движения $mv_x^2/2$. На выходе газодинамической струи $v_x$ может превышать скорость звука, и такие газодинамические струи получили название сверхзвуковых. Источник энергии --- внутренняя энергия данной массы газа, то есть энергия теплового хаотического движения. Внутренняя энергия является функцией температуры, и превращение внутренней энергии в кинетическую поступательного движения приводит к охлаждению газа. Сравнительно лего достижимо охлаждение газа до 10 К. Это означает, что газ, имевший плотность $3 \\cdot 10^{19}$ см$^-3$ и температуру 298 К в баллоне, может иметь на выходе динамической струи концентрацию $10^{14}$ см$^{-3}$ и температуру 10 К.\n",
    "\n",
    "Нарастание скорости поступательного движения, падение плотности и охлаждение газа в процессе адиабатного расширения, --- все эти процессы протекают в потоке до тех пор, пока сохраняется газодинамический характер течения. В этих условиях молекулы сталкиваются в взаимодействуют друг с другом. Меняя давление в баллоне с газом, можно регулировать температуру на выходе и тем самым менять степень кластеризации или размеры кластеров. Сам процесс кластеризации останавливается за счет естественного расширения струи и соответствующего падения плотности. Смена режима течения от газодинамического к молекулярному ведет к прекращению столкновений между отдельными частицами. Кластеры теряют возможность дальнейшего роста в связи с отсутствием столкновений с другими частицами и становятся объектом, доступным для исследования. Молекулярный пучок, состоящий из кластеров поступает на масс-спектральный анализ.\n",
    "\n",
    "Изучая кластеры любого типа, содержащие $n$ частиц, одним из наиболее интересных вопросов является следующий: как меняется какая-либо характеристика в зависимости от размера кластера $n$ и как быстро при изменении $n$ приближаются численные значения этой характеристики к величин, известной для конденсированной или объемной фазы. Применение масс-спектрометрии позволяет четко отнести измеряемые свойства к кластерам, содержащим вполне определенное число атомов известного химического элемента.\n",
    "\n",
    "### Металлические кластеры\n",
    "\n",
    "Среди кластеров простых веществ особое место занимают металлические кластеры. Пристальное внимание к ним объясняется особенностями их электронной структуры, с одной стороны, а с другой – относительной простотой их получения для экспериментальных исследований. Рказалось, что экспериментальное изучение их электронной структуры, оптических свойств, процессов взаимодействия между собой и с другими частицами, процессов их образования и распада сопровождается применением к ним наглядных теоретических моделей и уже существующих методов расчетов в теории многих тел.\n",
    "\n",
    "Началом современного этапа физики металлических кластеров можно считать открытие оболочечной электронной структуры у кластеров щелочных и редкоземельных металлов, которая во многом напоминает оболочечную структуру атомных ядер. Обнаружена она была экспериментально, когда измерили зависимость свойств металлических кластеров от количества атомов $N$ в кластере. Для кластеров щелочных металлов, например, Na, были найдены объекты, обладающие наибольшей устойчивостью, то есть оказалось, что кластеры с некоторыми магическими числами $N$ = 8, 18, 20, 34, 40, ... имеют наибольшую энергию связи. Этот факт и был положен в основу представлений об электронной структуре кластера, поскольку хорошо известно, что среди атомов и атомных ядер наиболее устойчивыми оказываются те системы, у которых определенные уровни энергии (оболочки) были заполнены. На основании экспериментально полученной зависимости электронной структуры металлических кластеров от числа атомов $N$ был сделан вывод о сходстве внутренней структуры металлических кластеров, атомов и атомных ядер, обнаруживающих периодический характер изменения свойств с ростом числа частиц. Практически одновременно с первыми экспериментальными результатами существование электронных оболочек в многоатомных кластерах было получено теоретически. В основу теоретического подхода было положено свойство валентных электронов металла покидать свои атомы (делокализоваться) и образовывать зону проводимости. Оказалось, что именно эти обобществленные электроны ответственны за подобную энергетическую структуру кластера. Более того, их поведение определяет большинство необычных коллективных свойств кластеров.\n",
    "\n",
    "## Качественные представления об электронной структуре\n",
    "\n",
    "Из квантовой механики известно, что энергетическое состояние электронов изолированного атома, поле которого в первом приближении можно считать центрально-симметричным, определяется набором квантовых чисел (в пренебрежении спином электрона): главным квантовым $n$, орбитальным квантовым $l$ и магнитным квантовым $m$. Электроны, находящиеся в состояниях с одинаковыми значениями $n$ и $l$ , имеют одинаковые энергии и образуют оболочку (или подоболочку). Эти оболочки разделены пространственно и энергетически (Рис. ).\n",
    "\n",
    "![](Figs/Na.png)\n",
    "\n",
    "*Рис. Упрощенная схема энергетических уровней изолированного атома Na и кластера из двух атомов натрия [Иванов, 1999]*\n",
    "\n",
    "При сближении двух атомов электронная структура каждого из них преобразуется: дискретные уровни энергии сдвигаются, расщепляются, группируются. Часть электронов, находящихся на верхних уровнях, может обобществляться (Рис.), при этом они двигаются по всему объединенному объему двух атомов. Когда число атомов увеличивается, то увеличивается число обобществленных электронов. В макроскопическом твердом теле образуется зона проводимости, в пределах которой электроны могут обладать любой энергией (сплошной спектр) и ведут себя подобно свободным частицам. В кластерах же, имеющих конечные и достаточно малые размеры, электроны находятся в ограниченном пространстве, определяемом областью расположения положительно заряженных ионов. Последние создают потенциальную яму с достаточно сложным профилем (Рис.), в которой, следуя квантовой механике, образуется новая система дискретных уровней. Энергетический спектр обобществленных электронов определяется размерами и формой кластера и взаимным расположением атомов в нем. Когда все состояния определенного уровня энергии заполняются электронами (образуется замкнутая оболочка), кластер представляет собой наиболее компактную систему с наибольшей энергией связи.\n",
    "\n",
    "Предположение о полной делокализации валентных электронов атомов в кластере вполне согласуется с результатами точных расчетов, которые показали, что межатомные расстояния, соответствующие равновесным положениям атомов в металлических кластерах, например 3,5–4 ат. ед. для Na–Na, меньше среднего радиуса наружной 3*s*-оболочки изолированного атома Na〈r〉 = 4,21 ат. ед. Это означает, что 3*s* -электроны натриевого кластера становятся общими для всех его атомов, так как их волновые функции перекрываются в значительной области. При этом валентные электроны атомов щелочных металлов можно считать слабосвязанными по сравнению с электронами внутренних оболочек. Так, например, потенциалы ионизации наруж-\n",
    "ной 3*s*- и следующей за ней внутренней 2*p*-оболочек атома Na равны соответственно 5,21 и 47,29 эВ. Таким образом, валентные электроны достаточно хорошо отделены от глубоких электронов и могут быть рассмотрены от них отдельно как частицы, распространяющиеся в электрическом поле, созданном ядрами и внутренними электронами.\n",
    "\n",
    "## Теоретические представления. Модель желе\n",
    "\n",
    "Суть модели желе состоит в том, что кластер, содержащий $N$ атомов рассматривается как две квазинезависимые подсистемы: систему валентных электронов и систему положительных ионов остова. Обобществленные валентные электроны движутся в\n",
    "среднем поле, создаваемом всеми ионами кластера.\n",
    "В первом приближении можно не учитывать сложную ионную структуру ядра, заменив положительные ионы остова усредненным фоном нескомпенсированного заряда, считая его распределение $n(r)$ однородным и сферически-симметричным (Рис.).\n",
    "\n",
    "В разделе курса физики по электростатике потенциал, создаваемый равномерно заряженным шаром радиуса $R$ (рис. 2) в зависимости от расстояния до центра шара $r$ имеет следующий вид:\n",
    "\n",
    "$$\n",
    "V(r) = \n",
    " \\begin{cases}\n",
    "   \\dfrac{1}{4\\pi\\varepsilon_0} \\dfrac{Ne}{2R}\\left(3 - \\left(\\dfrac{r}{R}\\right)^2\\right), r \\le R, \\\\\n",
    "   \\dfrac{1}{4\\pi\\varepsilon_0} \\dfrac{Ne}{r}, r > R,\n",
    " \\end{cases}\n",
    "$$\n",
    "\n",
    "где $Ne$ — полный заряд шара (в случае одновалентных щелочных металлов число свободных электронов равно числу атомов в кластере $N$), радиус кластера $R$ рассматривается как параметр теории и меняется в зависимости от числа содержащихся в нем атомов $N$ по закону $R$ = $r_s N^{1/3}$, где $r_s$ – половина среднеего расстояния между атомами в объемном металле."
   ]
  },
  {
   "cell_type": "code",
   "execution_count": 54,
   "metadata": {},
   "outputs": [
    {
     "data": {
      "image/png": "[encoded data removed]",
      "text/plain": [
       "<matplotlib.figure.Figure at 0x7f23435448d0>"
      ]
     },
     "metadata": {},
     "output_type": "display_data"
    }
   ],
   "source": [
    "import numpy as np\n",
    "import matplotlib.pyplot as plt\n",
    "\n",
    "r_s = 154e-12 # ковалентный радиус натрия 154 пм\n",
    "N = 18        # одно из магических чисел (для примера)\n",
    "e = -1.6e-19   # элементарный заряд\n",
    "eps_0 = 8.85e-12\n",
    "\n",
    "R = r_s*np.power(N, 1/3)\n",
    "\n",
    "r = np.linspace(-15*r_s, 15*r_s)\n",
    "\n",
    "def V(r):  \n",
    "    k = 1/(4*np.pi*eps_0)\n",
    "    if np.abs(r) <= R:\n",
    "        v = k*N*e/(2*R)*(3-(np.abs(r)/R)**2)\n",
    "    else:\n",
    "        v = k*N*e/np.abs(r)\n",
    "    return v\n",
    "\n",
    "V = np.vectorize(V)\n",
    "\n",
    "plt.plot(r/1e-9, V(r), color='blue', label='R = {:.2f} нм'.format(R/1e-9))\n",
    "plt.xlabel('$r$, нм')\n",
    "plt.ylabel('$V$, В')\n",
    "plt.legend()\n",
    "plt.show()"
   ]
  },
  {
   "cell_type": "markdown",
   "metadata": {},
   "source": [
    "Обобществленные электроны находятся в центральносимметричном поле, в котором, следуя квантовой механике, энергетическое состояние частицы, так же как и в атоме, характеризуется тремя квантовыми числами: $n_r$, $l$, $m$. Здесь  главное квантовое число $n$ обычно заменяется на радиальное квантовое число $n_r$, которое связано с первым соотношением $n$ = $n_r + l$. Электроны с одинаковыми значениями $n_r$ и $l$ имеют одинаковые энергии и образуют оболочку (или подоболочку). В случае, когда число атомов в кластере $N$ соответствует заполнению очередной электронной оболочки, энергия связи системы увеличивается, подобно потенциалу ионизации в атомах с замкнутыми оболочками. Однако порядок следования уровней в металлических кластерах существенно иной, чем в атомах. Основное отличие потенциала,\n",
    "в котором движутся электроны в кластере, состоит в\n",
    "том, что диаметр “ядра” $R$ (положительного кора) металлического кластера сравним с общим размером кластера. Кроме того, отсутствует сингулярность потенциала $1/r$ в начале координат, то есть обращение его в бесконечность при $r \\rightarrow 0$ (сравните Рис. выше и полученное нами распределение). В силу этого более выгодными становятся уровни энергии электронов с большими орбитальными моментами $l$ и порядок следования оболочек ближе к заполнению энергетических уровней в ядрах. При этом размеры электронного облака могут существенно превышать размеры ионного кора, что особенно заметно для металлических кластеров с небольшими $N$. Таким образом, металлические кластеры обладают электронной шубой, которая экранирует кластер от внешних воздействий. Именно поэтому делокализованные электроны, образующие оболочки, определяют свойства металлических кластеров как квантовой системы.\n",
    "\n",
    "Вообще говоря, электроны, помещенные в подобную потенциальную яму, не свободны, а взаимодействуют друг с другом, поэтому средний потенциал, действующий на отдельный электрон, отличается от потенциала, создаваемого только положительным\n",
    "кором. Учет межэлектронного взаимодействия приводит к изменению электронного спектра, однако, как и в случае атомов, энергии одночастичных состояний приближенно можно характеризовать теми же квантовыми числами, если сферичность кластера остается достаточно высокой."
   ]
  },
  {
   "cell_type": "markdown",
   "metadata": {},
   "source": [
    "## Геометрия металлических кластеров\n",
    "\n",
    "Для кластеров наиболее характерны полиэдрические структуры: тетраэдр, октаэдр, кубоктаэдр, икосаэдр. Свойства кластеров зависят от формирования заполненных геометрических оболочек, которое происходит при определенном числе частиц в кластере. В случае структур икосаэдра и кубооктаэдра количество атомов, необходимое для формирования кластера с числом $L$ геометрических оболочек дается соотношением:\n",
    "\n",
    "$$N = \\dfrac{10L^3 + 15L^2 + 11 L + 3}{3}.$$"
   ]
  },
  {
   "cell_type": "code",
   "execution_count": 15,
   "metadata": {},
   "outputs": [
    {
     "data": {
      "image/png": "[encoded data removed]",
      "text/plain": [
       "<matplotlib.figure.Figure at 0x7f0baeaa3080>"
      ]
     },
     "metadata": {},
     "output_type": "display_data"
    },
    {
     "name": "stdout",
     "output_type": "stream",
     "text": [
      "\"Магические числа\" (количества атомов) для первых 10 икосаэдрических кластеров: [1, 13, 55, 147, 309, 561, 923, 1415, 2057, 2869].\n"
     ]
    }
   ],
   "source": [
    "%matplotlib inline\n",
    "import numpy as np\n",
    "import matplotlib.pyplot as plt\n",
    "\n",
    "L = range(0, 10)\n",
    "N = [int((10*l**3 + 15*l**2 + 11*l + 3)/3) for l in L]\n",
    "\n",
    "plt.plot(L, N, 'o')\n",
    "plt.xticks(L)\n",
    "plt.xlabel('Число слоев')\n",
    "plt.ylabel('Количество атомов')\n",
    "plt.show()\n",
    "\n",
    "print('\"Магические числа\" (количества атомов) для первых {} икосаэдрических кластеров: {}.'.format(len(L), N))"
   ]
  },
  {
   "cell_type": "markdown",
   "metadata": {},
   "source": [
    "Частицы, обладающие указанным числом атомов имеют закрытую (заполненную) оболочечную структуру (closed-shell configuration). Число атомов, необходимое для заполнения отдельной координационной оболочки $n_L$ дается соотношением:\n",
    "\n",
    "$$n_L = 10 n^2_{L-1} + 2,$$\n",
    "\n",
    "где $n_0 = 1$. Это свойство присуще также кластерам большого размера."
   ]
  },
  {
   "cell_type": "markdown",
   "metadata": {},
   "source": [
    "## Форма кластеров\n",
    "\n",
    "В общем случае форма кристалла зависит от условий роста, которые обычно далеки от термодинамического равновесия. Однако в случае равновесного роста действует теорема Вульфа: минимум поверхностной энергии кристалла достигается при таком расположении  граней, когда они удалены от центра на расстояния $h_i$ пропорциональные поверхностной энергии $\\gamma_i$ этих граней:\n",
    "\n",
    "$$\n",
    "\\dfrac{\\gamma_i}{h_i} = const.\n",
    "$$\n",
    "\n",
    "Используя теорему Вульфа при известных поверхностных энергиях граней $\\gamma_i$ можно восстановить рановесную форму кристалла. Для металлов с ГЦК решеткой равновесной формой кристалла является усеченный октаэдр, для металлов с ОЦК решеткой — додекаэдр, для ионных кристаллов с сильной анизотропией энергии поверхностных связей — кубические кристаллы с гранями (100).\n",
    "\n",
    "В чем отличия при рассмотрении нанокристаллла? С теоретической точки зрения эта проблема может быть решена с помощью численного моделирования. Например, для большинства металлов известны распределения межатомных потенциалов. Для счетного количества атомов в кластере можно рассчитать все возможные взаимодействия атомов и найти формы, для которых будет наблюдаться минимум суммарной энергии взаимодействия.\n",
    "\n",
    "Расчеты такого рода показывают, что для металлов с ГЦК решеткой характерны икосаэдр, усеченный декаэдр и усеченный октаэдр.\n",
    "\n",
    "Для очень малых размеров самой стабильной формой является компактная форма икосаэдра, все грани которого соответствуют поверхности (111), обладающей наименьшей поверхностной энергией. Однако эта структура не может расти дале до макроскопического кристалла. В икосаэдре центральные атомы подвергаются высокой степени сжатия, в то время как связи поверхностных атомов наоборот, растягиваются.\n",
    "\n",
    "По мере роста избыточная энергия, обусловленная этими напряжениями, становится больше получаемого выигрыша от компактности, и структура имеет тенденцию перехода к равновесной. Рис. показывает стабильность различных геометрических форм кластеров меди, серебра, золота, никеля, палладия и платины.\n",
    "\n",
    "<img src=\"Figs/shape_stability.png\" >\n",
    "\n",
    "*Рис. Результаты расчета стабильности формы кластеров Cu, Ag, Au, Ni, Pd и Pt от числа входящих в атом кластеров: черные круги - икосадр, черные ромбы - усеченный декаэдр, белые квадраты - усеченный октаэдр. Расчеты проведены методами молекулярной динамики в приближении потенциала N-тел. Взято из работы [C. Mottet, J. Goniakowski, F. Baletto, R. Ferrando, G. Tréglia: Phase Tran-\n",
    "sitions 77, 101 (2004)]*\n",
    "\n",
    "Можно видеть, что выше некоторого размера равновесная форма меняется от более близкого к сфере икосаэдра к усеченному декаэдра. Переход от структуры икосаэдра и усеченного декаэдра к усеченному октаэдру происходит при очень различных масштабах. Приведеные зависимости представлены для чисел атомов, соответствующих магическим для каждой формы структуры.\n",
    "\n",
    "В то же время кластеры с промежуточным числом атомов между магическими могут иметь форму отличную от указанных, и даже \"флуктуировать\" между различными формами (Рис. )\n",
    "\n",
    "<img src=\"Figs/gold_cluster_evolution.jpg\" >\n",
    "\n",
    "*Рис. Изображение электронной микроскопии высокого разрешения эволюции формы кластера из 459 (средний размер 2 нм). S. Iijima, T. Ichihashi: Phys. Rev. Lett. 56, 616 (1986)*\n",
    "\n",
    "Такой эффект неустойчивости формы в зарубежной литературе принято называть quasimelting. Дополнительная тепловая энергия, в частности может создаваться и в результате воздействия электронного луча в микроскопии. На расчетной диаграмме Рис. это состояние соответствует ситуации, когда разность энергии между различными формами кластера настолько мала, что при определенной температуре происходят колебания между различными структурными формами. Эти результаты также были [подтверждены экспериментально](http://www.numis.northwestern.edu/Research/Articles/1995/Preferred_Structures_95.pdf). \n",
    "\n",
    "<img src=\"Figs/gold_cluster_shape_diag.png\" >\n",
    "\n",
    "*Рис. Теоретическая структурная фазовая диаграмма для кластеров золота. Стабильность различных структур в зависимости от размера и температуры: многогранник Вульфа (SC), декаэдр (Dh), икосаэдр (Ic), квазиразмягчение (QM), жидкость (L). Взято из P.M. Ajayan, L.D. Marks: Phys. Rev. Lett. 60, 585 (1988)*\n",
    "\n",
    "Из Рис. видно, что указанные эффекты характерны именно для кластеров, для наночастиц с радиусом больше 10 нм они уже не проявляется."
   ]
  },
  {
   "cell_type": "markdown",
   "metadata": {},
   "source": [
    "![](Figs/carbonile-clusters.png)\n",
    "\n",
    "*Рис. Структура карбонильных кластеров:* a – Os$_3$(CO)$_{12}$, б – Ir$_4$(CO)$_{12}$, в – [Os$_6$(CO)$_{18}$]$^{2-}$ [Шапник, 1999] "
   ]
  },
  {
   "cell_type": "code",
   "execution_count": null,
   "metadata": {},
   "outputs": [],
   "source": []
  },
  {
   "cell_type": "markdown",
   "metadata": {},
   "source": [
    "## Физические методы синтеза металлокластеров\n",
    "\n",
    "- **Лазерный метод получения кластеров в молекулярных пучках**. Испарение материала, который располагается вблизи канала сопла и облучается интенсивными лазерными импульсами. Образующиеся за счет лазерной абляции атомы, ионы и небольшие кластеры захватываются газом-носителем (обычно гелием) и охлажаются в процессе газодинамического расширения, формируя большие кластеры и наночастицы. Для испарения используется излучение эксимерного либо Nd:YAG-лазера. Энергия в импульсе обычно составляет 30-50 мДж, длительность импульса 5-50 нм.\n",
    "- **Плазменный метод**. В центральную часть потока плазмы буферного газа, вытекающего из плазмотрона вводится металл в виде металлсодержащих молекул $MX_k$ ($M$ — атом металла, $X$ — атом галогена, $k$ — число атомов галогена). Давление буферного составляет около 1 атм. В плазме молекулы распадаются и образующиеся атомы металла объединяются в кластеры, остаюащиеся в центре потока из-за малой подвижность. Далее эта часть плазмы с кластерами проходит через сопло в вакуумную камеру. "
   ]
  },
  {
   "cell_type": "markdown",
   "metadata": {},
   "source": [
    "## Методы исследования кластеров"
   ]
  },
  {
   "cell_type": "markdown",
   "metadata": {},
   "source": [
    "## Применение\n",
    "\n",
    "- Гигантские кластеры Pd, состоящие из нескольких сотен (около 600) атомов, проявляют высокую избирательную каталитическую активность во многих органических реакциях (окисление кислородом и нитробензолом, карбонилирование, гидрирование). При этом эффективный катализ идет в сравнительно мягких условиях — при температурах и давлениях гораздо меньших, чем при использовании обычных промышленных катализаторов."
   ]
  },
  {
   "cell_type": "markdown",
   "metadata": {},
   "source": [
    "### Активация малых молекул кластерными комплексами\n",
    "\n",
    "Термин *«малые молекулы»* очевиден — это молекулы из двух, трех  или четырех атомов, каждый из которых содержит небольшое число электронов — CO, N2, H2O, HCN, CO2, C2H2. Под *активацией* молекул понимают модификацию электронно-ядерной структуры молекул с повышением их реакционной способности за счет понижения энергии активации реакции. Межъядерные расстояния в активированной молекуле увеличины: ядра отдаляются друг от друга, чтобы затем при элементарном акте реакции полностью покинуть друг друга и стать частями новых конечных молекул.\n",
    "\n",
    "Активация молекул происходит при воздействии электромагнитного излучения или потока частиц — электронов, протонов, нейтронов и т.д. Здесь главное внимание удилеим активации молекул при их координировании неким координирующим центром *К*. Воздействие *К* приводит к дестабилизации координированной молекулы *S*. Однако далеко не всякая координация приводит к увеличению реакционной способности молекулы — часто наблюдается обратная ситуация. \n",
    "\n",
    "Активация как уменьшение суммарной энергии связей молекулы при ее координировании является следствием электронных перестроек, происходящих при этом в электронной структуре молекулы. Между молекулой и К возникают орбитальные взаимодействия, как правило с участием граничных, то есть верхних занятых и нижних свободных, молекулярных орбиталей (ВЗМО, НСМО), рассмотренных нами в предыдущем разделе. Эти взаимодействия по своему характеру являются электронодонорными и электроноакцепторными. Электронные эффекты при координации основаны на переносе электронного заряда от молекулы к К и в противоположном направлении в зависимости от характеристик взаимодействующих орбиталей. Уменьшение суммарной энергии связей в молекуле и, стало быть, активация молекулы при ее координировании на *К* усиливаются по мере того, как уменьшается электронная заселенность ее занятых связывающих МО в ходе переноса электронного заряда с этих МО на орбитали *К* и одновременно увеличивается заселенность вакантных (в изолированной молекуле) разрыхляющих МО в ходе переноса электронного заряда на эти МО с орбиталей *К*. Эти противоположные по направлению электронные переносы взаимно облегчают друг друга (синергический эффект) и, главное, ограничивают или просто не допускают появления больших, нереалистичных электростатических зарядов на атомах, составляющих взаимодействующие молекулярные системы."
   ]
  },
  {
   "cell_type": "markdown",
   "metadata": {},
   "source": [
    "# Контрольные вопросы"
   ]
  },
  {
   "cell_type": "markdown",
   "metadata": {},
   "source": [
    "# Упражнения и задачи\n",
    "\n",
    "1. Атомы Au могут образовывать кластеры в форме правильного тетраэдра. Такой кластер можно рассматривать как $n$ треугольных слоев, уложенных в стопку друг на друга. Выведите формулу $M(n)$, связывающую количество атомов Au в слое с номером слоя. Выведите формулу $N(n)$, связывающую суммарное количество атомов золота в кластере с количеством слоев.\n",
    "2. При моделировании кластеров широко используются парные потенциалы, описывающие энергию системы из двух атомов от расстояния между ними:\n",
    "$$\n",
    "U(r) = -\\frac{a}{r^5} + \\frac{b}{r^8},\n",
    "$$\n",
    "где $a$ и $b$ — коэффициенты, например, $a = 2,6\\cdot10^{-3}$, $b = 4,4\\cdot10^{-5}$, если [$r$] = нм, [$U$] = эВ. Парные потенциалы можно использовать для определения оптимальной формы кластеров, при этом суммарная энергия системы может быть представлена как сумма энергий всех возможных парных взаимодействий в кластере. Задания: а) найдите расстояние между центрами двух атомов $r_0$, при котором энергия системы минимальна, б) сколько парных взаимодействий между атомами можно выделить в кластере из 5 атомов? Из $n$ атомов?, в) рассчитайте энергии кластеров в форме правильного пятиугольника, тригональной бипирамиды и квадратной пирамиды. На основании расчета расположите их в порядке уменьшения энергии.\n",
    "3. Реакция 2CO + 2NO $\\rightarrow$ N$_2$ + 2CO$_2$ в присутствии кластеров Pd$_n$ ($n = 20\\dots30$) протекает при 300 К, что на 150 К ниже температуры реакции, катализируемой объемным Pd. В приближении, что значение константы Аррениуса $A$ не зависит от размера частиц Pd, оцените, во сколько раз кластеры Pd уменьшают энергию активации $E_a$ по сравнению с монокристаллами Pd.\n",
    "4. Определите число атомов в $n$-ой оболочке и общее число атомов металла в кластере, соответствующем «магическому числу» и содержащем n заполненных оболочек. При каком максимальном $n$ доля атомов на поверхности превышает 30%?\n",
    "5. В процессе восстановления комплекса Pd(II)-полимер газообразным водородом образуются комплексы палладия по следующей реакции $n$Pd$^{2+}$ + $n$H$_2$ = Pd$_n$ + $2n$H$^{+}$. Просвечивающая электронная микроскопия показала, что изолированные кластеры Pd$_n$ представляют собой почти сферические частицы, защищенные полимером, со средним диаметром 2.05 нм. Рассчитайте число атомов палладия в кластере. Имеют ли эти кластеры полностью заполненную оболочку? Рассчитайте число оболочек в кластерах. Плотность палладия 12.02 г/см$^3$.\n",
    "6. Вследствие конечного числа валентных электронов в металлических кластерах, их электронные состояния дискретны или частично дискретные. Типичное расстояние между энергетическими уровнями вблизи уровня Ферми составляет порядка $\\Delta = \\dfrac{4E_F}{3N}$, где $N$ — число атомов металла. Оцените, при каких температур кластеры лития радиусом ~2 нм переходят из диэлектрического в металлическое состояние, если энергия Ферми в объемном литии составляет 4.7 эВ, плотность металла 535 кг/м3, а молекулярная масса 6.941 г/моль."
   ]
  },
  {
   "cell_type": "markdown",
   "metadata": {},
   "source": [
    "# Литература\n",
    "\n",
    "1. Иванов В. К. Электронные свойства металлических кластеров //Соросовский образовательный журнал. – 1999. – №. 8. – С. 97.\n",
    "2. Шапник М. С. Металлокластеры // Соросовский образовательный журнал. – 1999. – №. 5. – С. 54.\n",
    "2. Суздалев И. П. Нанотехнология //Физико-химия нанокластеров, наноструктур и наноматериалов. М.: КомКнига. – 2006. – 592 С."
   ]
  },
  {
   "cell_type": "code",
   "execution_count": null,
   "metadata": {},
   "outputs": [],
   "source": []
  }
 ],
 "metadata": {
  "kernelspec": {
   "display_name": "Python 3",
   "language": "python",
   "name": "python3"
  },
  "language_info": {
   "codemirror_mode": {
    "name": "ipython",
    "version": 3
   },
   "file_extension": ".py",
   "mimetype": "text/x-python",
   "name": "python",
   "nbconvert_exporter": "python",
   "pygments_lexer": "ipython3",
   "version": "3.5.2"
  }
 },
 "nbformat": 4,
 "nbformat_minor": 2
}
