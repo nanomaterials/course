{
 "cells": [
  {
   "cell_type": "markdown",
   "metadata": {},
   "source": [
    "# Лабораторная работа\n",
    "## Расчет зонной структуры нанотрубок методом ЛКАО"
   ]
  },
  {
   "cell_type": "markdown",
   "metadata": {},
   "source": [
    "**Цель** — ознакомление со строением углеродных нанотрубок, применением метода линейной комбинации атомных орбиталей (ЛКАО) и использованием его в исследовании закона дисперсии для различных видов нанотрубок.\n",
    "\n",
    "## Хиральность нанотрубок\n",
    "\n",
    "Не содержащая дефектов одностенная углеродная нанотрубка представляет собой свернутую в виде цилиндра ленту с упаковкой атомов по типу графита.\n",
    "\n",
    "<img src=\"https://github.com/nanomaterials/course/blob/master/02_-_From_atoms_to_nanomaterials/Figs/Structure_model.png?raw=true\" width=\"600\"/>\n",
    "\n",
    "*Рис. 1. Построение структурной модели: a – часть графитового слоя, из которого вырезается лента, сворачиваемая в трубку; фрагменты нанотрубок «зигзаг» (б) и «кресло» (в) относительно образующей L*\n",
    "\n",
    "Чтобы представить пространственное расположение атомов в идеальной\n",
    "однослойной нанотрубке, отложим на графитовом слое вектор $\\vec{C} = n\\vec{а_1} + m \\vec{а_2}$, где $\\vec{а_1}$ и $\\vec{а_2}$ – базисные векторы, а $n$ и $m$ – целые числа (Рис. 1). Через точки-концы вектора $\\vec{С}$ проведем перпендикулярно ему две прямые – $L$ и $L'$ и вырежем из слоя бесконечную ленту вдоль этих линий. Свернем ленту в цилиндр так, чтобы прямые $L$ и $L'$ совместились. У этого цилиндра $L$ будет образующей, а длина окружности равна модулю вектора $\\vec{С}$. В итоге получим структурную модель нанотрубки $(n, m)$, которая не образует шов при сворачивании.\n",
    "\n",
    "В общем случае нанотрубки обладают винтовой осью симметрии (тогда говорят, что они *хиральны*). Нехиральными называются нанотрубки $(n, 0)$ и $(n, n)$, в которых углеродные шестиугольники ориентированы соответственно параллельно и перпендикулярно оси цилиндра (Рис. 1, б, в). По внешнему виду поперечного среза нанотрубки $(n, 0)$ называют нанотрубками «зигзаг» (zigzag), а нанотрубки $(n, n)$ – нанотрубками типа «кресло» (armchair).\n",
    "\n",
    "Индексы хиральности нанотрубки $(n, m)$ однозначным образом определяют ее структуру, в частности диаметр $d$. Эта связь имеет следующий вид:\n",
    "\n",
    "$$\n",
    "d = d_0\\dfrac{\\sqrt{3}}{\\pi}\\sqrt{n^2 + m^2 + nm},\n",
    "$$\n",
    "\n",
    "где $d_0 = 0.142$ нм – расстояние между соседними атомами углерода в графитовой плоскости.\n",
    "\n",
    "## Строение и электропроводность\n",
    "\n",
    "Нанотрубки с разными значениями индексов $(n, m)$ имеют разное строение, поэтому должны обладать разными электрическими свойствами. Зависимость электрических свойств нанотрубок от геометрических параметров были предсказаны на основе квантово-химических расчетов их зонной структуры независимо и фактически еще до экспериментального обнаружения нанотрубок.\n",
    "\n",
    "Атомы углерода в нанотрубках имеют тройную координацию, три из четырех валентных электронов каждого углерода образуют $sp^2$-гибридные орбитали и локализованные $\\sigma$-связи C-C, а четвертый участвует в образовании делокализованной $\\pi$-системы (как в графите или бензоле). Эти $\\pi$-электроны слабо связаны со своими атомами, поэтому именно они участвуют в переносе заряда в системе. Высокая проводимость должна появиться, если занятые $\\pi$-состояния не отделены энергетической щелью от вакантных $\\pi$-состояний. В противном случае нанотрубка – полупроводник, если щель малая, или диэлектрик, если большая. Расчеты показывают, что металлическим типом зонной структуры обладают те нанотрубки, для которых разность $n-m$ кратна трем. Остальные нанотрубки должны быть полупроводниками с шириной запрещенной зоны (от нескольких десятых до примерно 1 эВ), возрастающей с уменьшением диаметра нанотрубки.\n",
    "\n",
    "В качестве иллюстрации расчета электронной структуры в данной лабораторной работе выбран метод линейных комбинаций атомных орбиталей (ЛКАО) в $\\pi$-электронном приближении и приближении функциональной плотности. Положительными моментами этого метода являются его наглядность и относительная простота. Эти качества теряются в более сложных, не рассматриваемых здесь случаях. В частности, метод ЛКАО не вполне пригоден для расчетов электронной структуры нанотрубок, интеркалированных атомами тяжелых элементов, например переходными металлами. Для таких случаев используют более сложные методы, например метод линеаризованных присоединенных цилиндрических волн.\n",
    "\n"
   ]
  },
  {
   "cell_type": "code",
   "execution_count": null,
   "metadata": {},
   "outputs": [],
   "source": [
    "'''\n",
    "В этой лабораторной работе мы моделируем электронные свойства углеродных нанотрубок.\n",
    "В данном видео рассказывается о моделировании механических свойств и трибологии\n",
    "углеродных нанотрубок. Для запуска программных ячеек нажимайте \"Run\" либо сочетание\n",
    "клавиш Shift-Enter при выборе соответствующей ячейки (переведя на нее курсор).\n",
    "'''\n",
    "\n",
    "from IPython.lib.display import YouTubeVideo\n",
    "YouTubeVideo('-8TfX_Sc75E')"
   ]
  },
  {
   "cell_type": "markdown",
   "metadata": {},
   "source": [
    "## Метод ЛКАО\n",
    "\n",
    "Согласно положениям квантовой механики электронное строение молекулы как системы электронов в кулоновском поле ядер, можно определить из ее многоэлектронной волновой функции $\\Psi_k$, зависящей от координат всех электронов. Волновые функции $\\Psi_k$ дают полную информацию об электронной системе молекулы, но рассчитать их для сложных систем, например нанотрубок, опираясь только на уравнение Шредингера, не используя никаких физически правдоподобных предположений о характере волновой функции многоэлектронной системы, невозможно. Одно из важнейших приближений, используемых в теории строения многоэлектронных систем, упрощающих решение уравнения Шредингера, состоит в том, что многоэлектронную волновую функцию записывают в виде детерминанта, построенного из одноэлектронных волновых функций:\n",
    "\n",
    "$$\n",
    "\\Psi_k(q_1, q_2, \\dots, q_N) = \\dfrac{1}{\\sqrt{N!}} \\det\n",
    "\\begin{bmatrix}\n",
    "    \\varphi_1({q_1}) & \\varphi_2({q_1}) & \\dots  & \\varphi_N({q_1}) \\\\\n",
    "    \\varphi_1({q_2}) & \\varphi_2({q_2}) & \\dots  & \\varphi_N({q_2}) \\\\\n",
    "    \\vdots & \\vdots  & \\ddots & \\vdots \\\\\n",
    "    \\varphi_1({q_N}) & \\varphi_2({q_N}) & \\dots  & \\varphi_N({q_N})\n",
    "\\end{bmatrix}\n",
    "$$\n",
    "\n",
    "В чем физический смысл такой математической записи? Каждому электрону молекулы приписывается своя волновая функция $\\varphi_i$. Представление волновой функции в виде определителя обеспечивает выполнение условия антисимметричности волновой функции относительно перестановке электронов, которой соответствует перестановка строк в матрице определителя, а сам определитель домножается на $-1$.\n",
    "\n",
    "Множитель перед определителем необходим для нормировки многоэлектронной функции; орбитали считаются нормированными:\n",
    "\n",
    "$$\\int{\\varphi_i\\varphi_i}dV = 1,$$\n",
    "\n",
    "$$\\int{\\varphi_i\\varphi_j}dV = 0, i \\ne j$$\n",
    "\n",
    "Явный вид орбитали $\\Psi_k$ находится из одноэлектронного приближения [уравнения Шредингера](https://ru.wikipedia.org/wiki/Уравнение_Шрёдингера#Стационарное_уравнение_Шрёдингера):\n",
    "\n",
    "$$\\hat{H}\\Psi_k = E_k\\Psi_k, (k = 1, 2, \\dots, n)$$\n",
    "\n",
    "$$\\hat{H} = -\\dfrac{\\hbar}{2m} \\nabla^2 + U(\\vec{r}).$$\n",
    "\n",
    "Решение уравнения Шредингера методом [Хартри-Фока](https://ru.wikipedia.org/wiki/Метод_Хартри_—_Фока) основано на применении последовательных приближений. Для каждого электрона на первом этапе подбирается пробная волновая функция, с помощью которой рассчитывается гамильтониан и решается система уравнений Шредингера. Полученные более точные волновые функции подставляют в систему уравнений и заново решают, продолжая процесс до тех пор, пока энергии $E_k$ и вид орбиталей на предыдущем и последующем шагах не перестанут различаться. Когда это достигнуто, полученное решение называют самосогласованным.\n",
    "\n",
    "С помощью быстродействующих компьютеров уравнения Хартри–Фока в численной форме решены для всех атомов и ионов, в результате чего определены атомные орбитали и их энергии. Из-за более низкой симметрии многоатомных систем расчет орбиталей в этом случае непосредственно по уравнениям Хартри–Фока оказывается существенно более трудоемкой задачей, чем расчет АО атомов. Поэтому здесь используются дальнейшие приближения. Стандартный подход состоит в том, что искомые орбитали разлагаются по базису\n",
    "\n",
    "$$\\Psi_k = \\sum^n_{i=1}{a_{ki}\\chi_i}, (k = 1, 2, \\dots, n),$$\n",
    "\n",
    "где $\\chi_i$ — функции, вид которых в общем случае нетривиален и в разных методах различен, $n$ — общее число включенных в базис функций, $a_{ki}$ — коэффициенты, определяющие вклад каждой базисной функции $\\chi_i$ в собственную функцию $\\Psi_k$.\n",
    "\n",
    "Одна из возможностей состоит в том, что в этом разложении в качестве базиса для расчета орбиталей многоатомной системы использовать АО. В теории молекул такой подход называют методом ЛКАО, а в теории кристаллов — методом сильной связи. С физической точки зрения представление МО в виде ЛКАО отвечает предположению о том, что в окрестности каждого атома, где влияние потенциала более далеких атомов ослабевает, одноэлектронная волновая функция молекулы должна походить на атомную. В разложениях  можно использовать численные хартри-фоковские АО\n",
    "или проводить вычисления с аналитическими функциями, имеющими явную запись в виде формул, хорошо аппроксимирующими хартри-фоковские АО."
   ]
  },
  {
   "cell_type": "markdown",
   "metadata": {},
   "source": [
    "## Нанотрубки типа «кресло»\n",
    "Начнем обсуждение с нехиральных нанотрубок $(n, n)$ типа «кресло». Удобно учитывать, что нанотрубка обладает не только трансляционной симметрией, но\n",
    "и симметрией относительно вращений вокруг оси, что позволяет существенно понизить размерность секулярного уравнения.\n",
    "\n",
    "Представим нанотрубку как результат сворачивания ленты, вырезанной из графитового слоя, такого, что\n",
    "трансляционная ось нанотрубки совпадает с осью y графитового слоя. Тогда трансляции графитового слоя вдоль оси $x$ при переходе к нанотрубке $(n, n)$ превращаются в $n$ поворотов вокруг ее оси. Таким образом, нанотрубка оказывается циклической для двух измерений — для вращения вокруг оси нанотрубки и для оси трансляций. Элементарную ячейку нанотрубки $(n, n)$ можно представить как как прямоугольник со сторонами $c_y = c$ и $c_x = \\sqrt{3}c$. В ячейке содержатся четыре атома углерода, два из которых принадлежат подрешетке $А$, а другие два — подрешетке $B$. Соответственно, можно построить 4 базисных функции $\\Psi_{A1}$, $\\Psi_{A2}$, $\\Psi_{B1}$ и $\\Psi_{B2}$ и соответствующее секулярное уравнение \n",
    "\n",
    "$$\n",
    "\\det\n",
    "\\begin{bmatrix}\n",
    "\\alpha - E                    & <\\Psi_{A1}|\\hat{H}|\\Psi_{B1}> & 0                              & <\\Psi_{A1}|\\hat{H}|\\Psi_{B2}> \\\\\n",
    "<\\Psi_{B1}|\\hat{H}|\\Psi_{A1}> & \\alpha - E                    & <\\Psi_{B1}|\\hat{H}|\\Psi_{A2}>  & 0                             \\\\\n",
    "0                             & <\\Psi_{A2}|\\hat{H}|\\Psi_{B1}> & \\alpha - E                     & <\\Psi_{A2}|\\hat{H}|\\Psi_{B2}> \\\\\n",
    "<\\Psi_{B2}|\\hat{H}|\\Psi_{A1}> & 0                             & <\\Psi_{B2}|\\hat{H}|\\Psi_{A2}>  & \\alpha - E \\end{bmatrix} = 0,\n",
    "$$\n",
    "\n",
    "Соответствующие матричные элементы для заданного вида функций $\\Psi_{A1}$, $\\Psi_{A2}$, $\\Psi_{B1}$ и $\\Psi_{B2}$ известны:\n",
    "\n",
    "$$\n",
    "\\det\n",
    "\\begin{bmatrix}\n",
    "\\alpha - E               & \\beta\\exp(ik_xc_x)       & 0                        & \\beta(1 + \\exp(ik_yc_y)) \\\\\n",
    "\\beta\\exp(ik_xc_x)       & \\alpha - E               & \\beta(1 + \\exp(ik_yc_y)) & 0                        \\\\\n",
    "0                        & \\beta(1 + \\exp(ik_yc_y)) & \\alpha - E               & \\beta                    \\\\\n",
    "\\beta(1 + \\exp(ik_yc_y)) & 0                        & \\beta                    & \\alpha - E \\end{bmatrix} = 0,\n",
    "$$\n",
    "\n",
    "Решение секулярного уравнения дает закон дисперсии:\n",
    "\n",
    "$$E(k_x, k_y) = \\alpha\\pm\\beta\\sqrt{1\\pm4\\cos\\dfrac{k_yc_y}{2}\\cos\\dfrac{k_xc_x}{2}+4\\cos^2 \\dfrac{k_yc_y}{2}}.$$\n",
    "\n",
    "Заметим, что проекция $k_y$ волнового вектора обратной решетки совпадает с единственным трансляционным вектором $k$ нанотрубки, а проекции $k_x$ соответствует набор $n$ значений $k_x^m = \\dfrac{m}{n}\\dfrac{2\\pi}{\\sqrt{3}с}$, $(m = 1, 2, \\dots, n)$.\n",
    "\n",
    "$$E_n(k) = \\alpha \\pm \\beta \\sqrt{1\\pm4\\cos \\dfrac{kc}{2} \\cos \\dfrac{\\pi m}{n} +4\\cos^2 \\dfrac{kc}{2}},$$\n",
    "\n",
    "где $k \\in \\left( -\\dfrac{\\pi}{c}, \\dfrac{\\pi}{c}\\right), m \\in (1, n)$."
   ]
  },
  {
   "cell_type": "markdown",
   "metadata": {},
   "source": [
    "Перед началом выполнения расчетов введите свой вариант, запустив ячейку ниже. Для этого, аналогично другим ячейкам с программным кодом нужно нажать в меню кнопку \"Run\", либо использовать сочетание клавиш [Shift] + [Enter]. Введя в ответ на запрос номер варианта, нажмите [Enter]. Номер варианта сохранится в переменной и будет далее использоваться в программном коде."
   ]
  },
  {
   "cell_type": "code",
   "execution_count": 1,
   "metadata": {
    "scrolled": true
   },
   "outputs": [
    {
     "name": "stdout",
     "output_type": "stream",
     "text": [
      "Введите номер варианта: 10\n"
     ]
    }
   ],
   "source": [
    "n_var = int(input(\"Введите номер варианта: \"))"
   ]
  },
  {
   "cell_type": "markdown",
   "metadata": {},
   "source": [
    "Номер варианта будет соотстветстовать в дальнейшем коэффициенту хиральности рассматриваемых по отдельности нанотрубок, для нанотрубок «кресло» — $(n, n)$, для нанотрубок «зигзаг» — $(n, 0)$. В обоих случаях $n$ соответствует номеру варианта.\n",
    "\n",
    "Программные ячейки нужно запускать в порядке их появления работе."
   ]
  },
  {
   "cell_type": "code",
   "execution_count": 2,
   "metadata": {},
   "outputs": [],
   "source": [
    "import numpy as np\n",
    "import matplotlib.pyplot as plt\n",
    "\n",
    "a     = -6.38  # параметр альфа [эВ], найден из спектра бензола\n",
    "b     = 2.79   # параметр бэтта [эВ], найден из спектра бензола\n",
    "\n",
    "def plot_dispersion_curves(kc, E):\n",
    "    '''Отображение дисперсионных кривых'''\n",
    "    for i in range(E.shape[0]):\n",
    "        plt.plot(kc, E[i], color='blue', linewidth=1.0, alpha=0.5)\n",
    "    plt.xlabel(\"$kc$\")\n",
    "    plt.ylabel(\"$E$, эВ\")\n",
    "\n",
    "\n",
    "def armchair_dispersion(n, steps=100):\n",
    "    '''Построение дисперсионных кривых для нанотрубок типа \"кресло\" (n, n)'''\n",
    "    kc = np.linspace(-np.pi, np.pi, steps)     # координаты волнового вектора\n",
    "    n_array = np.arange(1, n+1)/n                \n",
    "    v1 = 2*np.cos(kc/2)[np.newaxis, :]\n",
    "    v2 = 2*np.cos(np.pi*n_array)[:, np.newaxis]\n",
    "    E = a + np.array([[ b*np.sqrt(1 + v1*v2 + v1**2)],\n",
    "                      [ b*np.sqrt(1 - v1*v2 + v1**2)],\n",
    "                      [-b*np.sqrt(1 + v1*v2 + v1**2)],\n",
    "                      [-b*np.sqrt(1 - v1*v2 + v1**2)]])\n",
    "    E = E.reshape((4*n, steps))\n",
    "    return kc, E"
   ]
  },
  {
   "cell_type": "markdown",
   "metadata": {},
   "source": [
    "Рассмотрим сначала пример расчета дисперсионных кривых для нанотрубок вашего варианта."
   ]
  },
  {
   "cell_type": "code",
   "execution_count": 3,
   "metadata": {},
   "outputs": [
    {
     "data": {
      "image/png": "[encoded data removed]",
      "text/plain": [
       "<matplotlib.figure.Figure at 0x7f78ed50dcc0>"
      ]
     },
     "metadata": {},
     "output_type": "display_data"
    }
   ],
   "source": [
    "plot_dispersion_curves(*armchair_dispersion(n_var))"
   ]
  },
  {
   "cell_type": "markdown",
   "metadata": {},
   "source": [
    "Сохраните полученное изображение в отчет (при помощи контекстного меню правым кликом по изображению). В подписи назовите рисунок \"Рис. 1. Дисперсионные кривые одностенной углеродной нанотрубки (n, n)\". Вместо n подставьте соответствующий коэффициент (номер варианта)."
   ]
  },
  {
   "cell_type": "markdown",
   "metadata": {},
   "source": [
    "Теперь рассмотрим эволюцию дисперсионных кривых для одностенных углеродных нанотрубок типа «кресло» для $n$ от 1 до 9."
   ]
  },
  {
   "cell_type": "code",
   "execution_count": null,
   "metadata": {
    "scrolled": false
   },
   "outputs": [],
   "source": [
    "plt.figure(figsize=(12,9))\n",
    "\n",
    "for n in range(1, 10):\n",
    "    plt.subplot(3, 3, n)\n",
    "    plot_dispersion_curves(*armchair_dispersion(n))\n",
    "    plt.title('({}, {})'.format(n, n))\n",
    "    plt.tight_layout()\n",
    "\n",
    "plt.show()"
   ]
  },
  {
   "cell_type": "markdown",
   "metadata": {},
   "source": [
    "Сделайте выводы об изменении дисперсионных кривых с ростом коэффициентов хиральности. В чем заключается причина увеличения и сгущения энергетических уровней? Имеется ли в случае нанотрубок типа «кресло» энергетический зазор между заполненными и возбужденными состояниями?\n",
    "\n",
    "Кроме расположения дисперсионных кривых, важное значение имеет плотность электронных состояний. Определим плотность электронных состояний для нанотрубки вашего варианта."
   ]
  },
  {
   "cell_type": "code",
   "execution_count": null,
   "metadata": {},
   "outputs": [],
   "source": [
    "def density_of_armchair_states(n): \n",
    "    E = armchair_dispersion(n, steps=1000)[1].flatten()\n",
    "    (N, edges) = np.histogram(E, bins = 1000)\n",
    "    points = edges[:-1] + (edges[1]-edges[0])/2\n",
    "    plt.xlabel(\"$dN/dE$, 1/эВ\")\n",
    "    plt.ylabel(\"$E$, эВ\")\n",
    "    plt.plot(N, points, color='blue')\n",
    "    plt.grid()\n",
    "    plt.show()\n",
    "    \n",
    "density_of_armchair_states(n_var)"
   ]
  },
  {
   "cell_type": "markdown",
   "metadata": {},
   "source": [
    "Сравним полученное распределение плотности состояний для небольшой нанотрубки с нанотрубкой большего диаметра (100, 100). Приведите в отчете изображения распределений плотностей состояний и сделайте выводы об изменении характера распределения плотностей состояний относительно шкалы энергии."
   ]
  },
  {
   "cell_type": "code",
   "execution_count": null,
   "metadata": {},
   "outputs": [],
   "source": [
    "density_of_armchair_states(100)"
   ]
  },
  {
   "cell_type": "markdown",
   "metadata": {},
   "source": [
    "Можно видеть, что все уровни, расположенные ниже $\\alpha$, отвечают заполненным состояниям валентной зоны, а лежащие выше — вакантным\n",
    "уровням зоны проводимости. В уравнении для $E_n(k)$  валентной зоне отвечает знак минус, а зоне проводимости — плюс перед интегралом перескока (после $\\alpha$). Положение уровня Ферми совпадает с энергией $\\pi$-орбитали в свободном атоме углерода. При построении зонной структуры можно видеть, что дисперсионные кривые валентной зоны и зоны проводимости расположены симметрично относительно уровня Ферми. Состояния валентной зоны и зоны проводимости пересекаются в точке $k = (2/3)(\\pi/с)$. Нанотрубка обладает металлическим типом зонной структуры.\n",
    "\n",
    "## Нанотрубки типа «зигзаг»\n",
    "Рассчитаем теперь законы дисперсии электронов для нехиральных нанотрубок $(n, 0)$ типа «зигзаг». В этом случае нанотрубка также обладает не только трансляционной, но и вращательной симметрией относительно оси нанотрубки. Элементарная ячейка нанотрубки $(n, 0)$ – прямоугольник со сторонами\n",
    "$c_y = \\sqrt{3}c$ и $с_x = c$. Четыре базисных функции — те же, что и в нанотрубке типа «кресло», но ненулевые матричные элементы имеют другие значения:\n",
    "\n",
    "$$\n",
    "\\det\n",
    "\\begin{bmatrix}\n",
    "\\alpha - E               & \\beta                    & 0                        & \\beta(1 + \\exp(ik_xc_x)) \\\\\n",
    "\\beta                    & \\alpha - E               & \\beta(1 + \\exp(ik_xc_x)) & 0                        \\\\\n",
    "0                        & \\beta(1 + \\exp(ik_xc_x)) & \\alpha - E               & \\beta\\exp(ik_yc_y)        \\\\\n",
    "\\beta(1 + \\exp(ik_xc_x)) & 0                        & \\beta\\exp(ik_yc_y)       & \\alpha - E \\end{bmatrix} = 0,\n",
    "$$\n",
    "\n",
    "Решение секулярного уравнения дает закон дисперсии:\n",
    "\n",
    "$$E(k_x, k_y) = \\alpha\\pm\\beta\\sqrt{1\\pm4\\cos\\dfrac{k_yc_y}{2}\\cos\\dfrac{k_xc_x}{2}+4\\cos^2\\dfrac{k_xc_x}{2}}.$$\n",
    "\n",
    "По-прежнему проекция $k_y$ волнового вектора обратной решетки совпадает с трансляционным вектором $k$ нанотрубки, а проекции $k_x$ теперь соответствует набор $n$ значений $k_x^m = \\dfrac{m}{n}\\dfrac{2\\pi}{с}$, $(m = 1, 2, \\dots, n)$.\n",
    "\n",
    "С учетом вышеперечисленного уравнение для расчета электронных уровней нанотрубок $(n, 0)$ принимает вид\n",
    "\n",
    "$$E_n(k) = \\alpha \\pm \\beta \\sqrt{1 \\pm 4 \\cos \\dfrac{k\\sqrt{3}c}{2} \\cos \\dfrac{\\pi m}{n} +4\\cos^2 \\dfrac{\\pi m}{n}},$$\n",
    "\n",
    "где $k \\in \\left( -\\dfrac{\\pi}{\\sqrt{3}c}, \\dfrac{\\pi}{\\sqrt{3}c}\\right), m \\in (1, n)$."
   ]
  },
  {
   "cell_type": "code",
   "execution_count": null,
   "metadata": {},
   "outputs": [],
   "source": [
    "def zigzag_dispersion(n, steps=100):\n",
    "    \"\"\"Строит дисперсионные кривые для нанотрубки типа зигзаг\"\"\"\n",
    "    kc = np.linspace(-np.pi/np.sqrt(3), np.pi/np.sqrt(3), steps)     # координаты волнового вектора\n",
    "    n_array = np.arange(1, n+1)/n\n",
    "    v1 = 2*np.cos(kc*np.sqrt(3)/2)[np.newaxis, :]\n",
    "    v2 = 2*np.cos(np.pi*n_array)[:, np.newaxis]\n",
    "    v3 = 4*np.cos(np.pi*n_array)[:, np.newaxis]**2\n",
    "    E = a + np.array([[b*np.sqrt(1 + v1*v2 + v3)],\n",
    "                      [b*np.sqrt(1 - v1*v2 + v3)],\n",
    "                     [-b*np.sqrt(1 + v1*v2 + v3)],\n",
    "                     [-b*np.sqrt(1 - v1*v2 + v3)]])\n",
    "    E = E.reshape((4*n, steps))\n",
    "    return kc, E"
   ]
  },
  {
   "cell_type": "markdown",
   "metadata": {},
   "source": [
    "Рассмотрим пример расчета дисперсионных кривых для нанотрубки вашего варианта."
   ]
  },
  {
   "cell_type": "code",
   "execution_count": null,
   "metadata": {},
   "outputs": [],
   "source": [
    "plot_dispersion_curves(*zigzag_dispersion(n_var))"
   ]
  },
  {
   "cell_type": "markdown",
   "metadata": {},
   "source": [
    "Рассмотрим эволюцию дисперсионных кривых для одностенных углеродных нанотрубок типа «зизаг» для $n$ от 1 до 9. Проследите изменение энергетическго зазора в зависимости от $n$. Обратите внимание, что в случае, когда $n$ кратно трем, энергетический зазор равен нулю в точке $k = 0$."
   ]
  },
  {
   "cell_type": "code",
   "execution_count": null,
   "metadata": {},
   "outputs": [],
   "source": [
    "plt.figure(figsize=(12,9))\n",
    "\n",
    "for n in range(1, 10):\n",
    "    plt.subplot(3, 3, n)\n",
    "    plot_dispersion_curves(*zigzag_dispersion(n))\n",
    "    plt.title('({}, {})'.format(n, 0))\n",
    "    plt.tight_layout()\n",
    "\n",
    "plt.show()"
   ]
  },
  {
   "cell_type": "markdown",
   "metadata": {},
   "source": [
    "Рассмотрим распределение плотности состояний $\\dfrac{dN}{dE}$ относительно энергетической шкалы $E$ для нанотрубки рассматриваемого варианта."
   ]
  },
  {
   "cell_type": "code",
   "execution_count": null,
   "metadata": {},
   "outputs": [],
   "source": [
    "def density_of_zigzag_states(n): \n",
    "    E = zigzag_dispersion(n, steps=1000)[1].flatten()\n",
    "    (N, edges) = np.histogram(E, bins = 1000)\n",
    "    points = edges[:-1] + (edges[1]-edges[0])/2\n",
    "    plt.xlabel(\"$dN/dE$, 1/эВ\")\n",
    "    plt.ylabel(\"$E$, эВ\")\n",
    "    plt.plot(N, points, color='blue')\n",
    "    plt.grid()\n",
    "    plt.show()\n",
    "    \n",
    "density_of_zigzag_states(n_var)"
   ]
  },
  {
   "cell_type": "markdown",
   "metadata": {},
   "source": [
    "Сравним полученное распределение плотности состояний для небольшой нанотрубки с нанотрубкой большего диаметра (100, 0). Приведите изображения распределений плотностей состояний и сделаейте выводы об изменении характера распределения плотностей относительно шкалы энергии."
   ]
  },
  {
   "cell_type": "code",
   "execution_count": null,
   "metadata": {},
   "outputs": [],
   "source": [
    "density_of_zigzag_states(100)"
   ]
  },
  {
   "cell_type": "markdown",
   "metadata": {},
   "source": [
    "Можно видеть, что энергетические уровни с наибольшей плотностью состояний те же, что и в случае нанотрубок типа «кресло». Несмотря на разную форму дисперсионных кривых, при больших значениях $n$ спектры плотности состояний приобретают идентичную форму. "
   ]
  },
  {
   "cell_type": "markdown",
   "metadata": {},
   "source": [
    "## Ширина энергетического зазора"
   ]
  },
  {
   "cell_type": "markdown",
   "metadata": {},
   "source": [
    "Определим зависимость ширины энергетического зазора от коэффициентов хиральности нанотрубок типа зигзаг."
   ]
  },
  {
   "cell_type": "code",
   "execution_count": null,
   "metadata": {},
   "outputs": [],
   "source": [
    "def calculate_gap(n):\n",
    "    \"\"\"Рассчет ширины запрещенной зоны: вычитаем из энергии\n",
    "    наименьшего из незаполненных пи-состояний энергию высшего из\n",
    "    заполненных пи-состояний.\"\"\"\n",
    "    E = zigzag_dispersion(n)[1]\n",
    "    LUMO = np.min(E[E>=a])\n",
    "    HOMO = np.max(E[E<=a])\n",
    "    return LUMO-HOMO\n",
    "\n",
    "n_array = np.arange(2, 30)\n",
    "Eg = np.array([])\n",
    "\n",
    "for n in np.arange(2, 30):\n",
    "    Eg = np.append(Eg, calculate_gap(n))\n",
    "\n",
    "fig = plt.figure(); ax = fig.add_subplot(111)\n",
    "ax.plot(n_array, [1.24/0.78]*n_array.size, ':', color = 'red', alpha=0.5)\n",
    "ax.plot(n_array, [1.24/0.38]*n_array.size, ':', color = 'blue', alpha=0.5)\n",
    "ax.plot(n_array, Eg, 'o', color='black')\n",
    "ax.set_xlabel('$n$')\n",
    "ax.set_ylabel('$E_g$, эВ')\n",
    "\n",
    "plt.show()"
   ]
  },
  {
   "cell_type": "markdown",
   "metadata": {},
   "source": [
    "Пунктирными линиями на рисунке показаны границы видимого диапазона, соответствующие энергиям энергетического зазора.\n",
    "\n",
    "Определим значение энергетического зазора для нанотрубки вашего варианта. Укажите его в выводах по работе."
   ]
  },
  {
   "cell_type": "code",
   "execution_count": null,
   "metadata": {},
   "outputs": [],
   "source": [
    "s = 'Значение энергетической щели равно {0:.2} эВ.'.format(calculate_gap(n_var))\n",
    "print(s)"
   ]
  },
  {
   "cell_type": "markdown",
   "metadata": {},
   "source": [
    "## Обработка результатов\n",
    "\n",
    "1. Приведите изображения полученных зонных структур и объясните сгущение уровней состояний с увеличением коэффициентов хиральности нанотрубок различного типа. Сосчитайте число кривых, описывающих электронную структуру нанотрубки (4, 4). Сравните его с числом кривых, полученных в ходе лабораторной работы для этого вида нанотрубок. Объясните исчезновение остальных дисперсионных кривых.\n",
    "2. Проанализируйте зависимость диаметра нанотрубки\n",
    "от коэффициента хиральности $n$ для нанотрубок типа «зигзаг» и «кресло». Объясните, почему для одних и тех же $n$ диаметр нанотрубок различного типа отличается в $\\sqrt{3}$ раз. \n",
    "3. Приведите и объясните зависимость ширины запрещенной зоны от $n$ для нанотрубок типа «зизаг». Рассмотрите аналитическое выражение для закона дисперсии нанотрубок типа «зигзаг». Докажите, что в случае $n$ кратного трем величина энергетического зазора равна нулю.\n",
    "4. В 2003 г. в журнале «Science» была опубликована статья, посвященная использованию полупроводниковой одностенной углеродной нанотрубки в качестве светодиода. Наблюдалось свечение нанотрубки в инфракрасной области с длиной волны 1650 нм. Используя полученные результаты, определите коэффициент хиральности $n$ нанотрубки типа «зигзаг», которая могла использоваться для получения того же результата. Оцените диаметр нанотрубки."
   ]
  },
  {
   "cell_type": "markdown",
   "metadata": {},
   "source": [
    "# Контрольные вопросы\n",
    "1. Объясните, что означают индексы $(n, m)$ в обозначениях нанотрубок, какую информацию о нанотрубке из них можно извлечь?\n",
    "2. Какие индексы хиральности имеют углеродные нанотрубки типа «кресло» и «зигзаг»?\n",
    "3. Изобразите общий вид зонной структуры для нанотрубок типа «кресло» и «зигзаг» с металлическим и полупроводниковым типами зонной структуры.\n",
    "4. Какие приближения используются в методе ЛКАО для рассмотрения одностенных углеродных нанотрубок?\n",
    "5. Для каких примеров рассмотрения углеродных нанотрубок метод ЛКАО неприменим?\n",
    "6. Каким энергетическим величинам соответствуют максимумы в плотности состояний при больших значениях $n$?"
   ]
  },
  {
   "cell_type": "markdown",
   "metadata": {},
   "source": [
    "# Упражнения и задачи\n",
    "\n",
    "1. Докажите, что диаметр одностенной углеродной нанотрубки с коэффициентами хиральности $(n, m)$ равен $\\dfrac{d_0}{\\pi}\\sqrt{m^2 + mn + n^2}$, где $d_0$ — расстояние между соседними атомами углерода ($0.246 \\text{нм}$)."
   ]
  },
  {
   "cell_type": "markdown",
   "metadata": {},
   "source": [
    "# Литература\n",
    "\n",
    "- http://nznano.blogspot.com/2018/03/simple-quantum-chemistry-hartree-fock.html\n",
    "- Дьячков П. Н. Электронные свойства и применение нанотрубок //БИНОМ. Лаборатория знаний. – 2011."
   ]
  }
 ],
 "metadata": {
  "kernelspec": {
   "display_name": "Python 3",
   "language": "python",
   "name": "python3"
  },
  "language_info": {
   "codemirror_mode": {
    "name": "ipython",
    "version": 3
   },
   "file_extension": ".py",
   "mimetype": "text/x-python",
   "name": "python",
   "nbconvert_exporter": "python",
   "pygments_lexer": "ipython3",
   "version": "3.5.2"
  }
 },
 "nbformat": 4,
 "nbformat_minor": 2
}
