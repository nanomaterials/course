{
 "cells": [
  {
   "cell_type": "markdown",
   "metadata": {},
   "source": [
    "# Самоорганизация и самосборка"
   ]
  },
  {
   "cell_type": "code",
   "execution_count": null,
   "metadata": {},
   "outputs": [],
   "source": [
    "'''Фильм 1987 г\n",
    "Нелинейные структуры в синергетике\n",
    "Ячейки Бенара\n",
    "Открытые биологические системы\n",
    "Реакция Белоусова-Жаботинского\n",
    "Уравнение диффузии\n",
    "Уравнение синус-Гордона\n",
    "Солитоны\n",
    "Модель типа реакции диффузии\n",
    "Диссипативные структуры'''\n",
    "\n",
    "from IPython.lib.display import YouTubeVideo\n",
    "YouTubeVideo('XHaFPN-qu1Q')"
   ]
  },
  {
   "cell_type": "markdown",
   "metadata": {},
   "source": [
    "# Конспект лекции"
   ]
  },
  {
   "cell_type": "markdown",
   "metadata": {},
   "source": [
    "# Упражнения и задачи"
   ]
  },
  {
   "cell_type": "markdown",
   "metadata": {},
   "source": [
    "# Литература"
   ]
  },
  {
   "cell_type": "code",
   "execution_count": null,
   "metadata": {},
   "outputs": [],
   "source": []
  }
 ],
 "metadata": {
  "kernelspec": {
   "display_name": "Python 3",
   "language": "python",
   "name": "python3"
  },
  "language_info": {
   "codemirror_mode": {
    "name": "ipython",
    "version": 3
   },
   "file_extension": ".py",
   "mimetype": "text/x-python",
   "name": "python",
   "nbconvert_exporter": "python",
   "pygments_lexer": "ipython3",
   "version": "3.5.2"
  }
 },
 "nbformat": 4,
 "nbformat_minor": 2
}
