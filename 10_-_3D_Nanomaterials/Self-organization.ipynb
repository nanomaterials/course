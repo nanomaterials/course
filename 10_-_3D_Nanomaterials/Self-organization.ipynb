{
 "cells": [
  {
   "cell_type": "markdown",
   "metadata": {},
   "source": [
    "# Самоорганизация и самосборка"
   ]
  },
  {
   "cell_type": "markdown",
   "metadata": {},
   "source": [
    "# Конспект лекции"
   ]
  },
  {
   "cell_type": "markdown",
   "metadata": {},
   "source": [
    "Рассмотрим опыт Бенара. Для эксперимента необходимо берется горизонтальный слой какой-нибудь жидкости (например, масла) и создать вертикальный градиент температур. При этом установится некоторый поток тепла, идущий снизу вверх. Будем изменять градиент температур (температуру дна). Когда он достигнет некоторого критического значения, то однородная структура жидкости внезапно изменится, и мы будем наблюдать сложную пространственно-организованную систему, состоящую из ячеек в форме правильных шестиугольников. Такая структура изображена на рис. а. При достижении порогового значения градиента температуры перенос тепла уже не обеспечи вается только теплопроводностью, то есть хаотическим движением молекул жидкости, и возникает их конвективное движение. На рис. б, где ячейки Бенара увеличены в 25 раз, можно увидеть, что в центре ячейки жидкость поднимается вверх, а по краям движется вниз.\n",
    "\n",
    "Чтобы система перешла в особый режим, при котором образуются пространственно-организованные структуры, необходимо, чтобы внешнее воздействие (градиент температур) достигло некоторого критического значения. Процесс самоорганизации есть переход от беспорядочного движения, хаотического состояния через нарастание флуктуаций к новому порядку. Это не статичный порядок равновесия, а динамическое состояние, которое поддерживается притоком извне, через границы системы.\n",
    "\n",
    "![](Figs/benar.png)\n",
    "\n",
    "*Рис. а – ячейки Бенара, возникающие в ранее однородной жидкости при закритическом значении температурного градиента (разности температур между низом и верхом сосуда); б – увеличенная в 25 раз картина неустойчивости Бенара в жидкости. В центре каждой ячейки жидкость поднимается вверх, на краях опускается*"
   ]
  },
  {
   "cell_type": "code",
   "execution_count": 1,
   "metadata": {},
   "outputs": [
    {
     "data": {
      "image/jpeg": "[encoded data removed]",
      "text/html": [
       "\n",
       "        <iframe\n",
       "            width=\"400\"\n",
       "            height=\"300\"\n",
       "            src=\"https://www.youtube.com/embed/Oka46N3hBuw\"\n",
       "            frameborder=\"0\"\n",
       "            allowfullscreen\n",
       "        ></iframe>\n",
       "        "
      ],
      "text/plain": [
       "<IPython.lib.display.YouTubeVideo at 0x7f34dd51afd0>"
      ]
     },
     "execution_count": 1,
     "metadata": {},
     "output_type": "execute_result"
    }
   ],
   "source": [
    "'''Диссипативные структуры в нелинейных средах (1987)'''\n",
    "\n",
    "from IPython.lib.display import YouTubeVideo\n",
    "YouTubeVideo('Oka46N3hBuw')"
   ]
  },
  {
   "cell_type": "markdown",
   "metadata": {},
   "source": [
    "## Самоорганизованные квантовые точки\n",
    "\n",
    "Подлинный бум в области исследования низкоразмерных структур начался в 1980-х годах, когда технологи научились контролируемо выращивать на поверхности кристаллов одних полупроводников совершенные монокристаллические слои других полупроводников толщиной всего в несколько слоев атомов, и создавать гетероструктуры с такими слоями.\n",
    "\n",
    "Центральным объектом исследований стали гетеронаноструктуры с квантовыми ямами и квантовыми сверхрешетками из таких ям на основе арсенида галлия ($\\text{GaAs}$) и его твердых растворов ($\\text{Al$_x$Ga$_{1-x}$As}$ и $\\text{In$_x$Ga$_{1-x}$As}$) разного состава ($x = 0.1-1$). Эти материалы имеют подходящую для применения во многих электронных, и особенно оптоэлектронных, приборах структуру энергетических зон и относительно малую эффективную массу электронов, что облегчает создание условий для размерного квантования.\n",
    "\n",
    "С начала 1990-х годов интерес исследователей все больше перемещается на гетероструктуры с квантовыми точками (КТ), особенно после того, как была выяснена возможность самоорганизованного роста массивов бездефектных включений (кластеров) InAs в матрице GaAs, проявляющих свойства квантовых точек.\n",
    "\n",
    "Одно время считалось, что при различии постоянных решеток более чем на $\\sim0,1\\%$ невозможно получить совершенные гетеропереход из-за образования в месте сопряжения решеток дефектов в виде обрывов атоманых плоскостей, называемых дислокациями несоответствия. Позднее выяснилось, что и при относительно большом несоответствии решеток можно выращивать бездислокационные гетерослои и кластеры, если их размеры не превышают некоторых критических значений, которые зависят от степени несоответствия. В кристаллической решетке достаточно тонких слоев и не слишком больших кластеров возникают механические напряжения, вызывающие упругую деформацию, которая обеспечивает бездефектное (когерентное) сопряжение двух решеток. Постоянная решетки $\\text{In$_x$Ga$_{1-x}$As}$ на 7% на больше постоянной решетки $\\text{GaAs}$. Именно благодаря различию постоянных решеток этих\n",
    "материалов становится возможным образование самоорганизованных квантовых точек.\n",
    "\n",
    "Под самоорганизацией здесь понимается самопроизвольное возникновение упорядоченных макроскопических структур из менее упорядоченной среды. В основе процесса самоорганизации лежит свойство неравновесных физических систем при приближении к термодинамическому равновесию переходить в состояние, в котором свободная энергии системы, то есть та часть внутренней энергии, которая может быть превращена в работу,\n",
    "минимальна.\n",
    "\n",
    "Представим, что на поверхности монокристалла из материала А осажден тонкий однородный слой материала В. Если температура и время выдержки системы обеспечивают установление термодинамического равновесия, то в слое В возникнет атомная структура и он примет форму, при которых свободная энергия системы будет минимальна. Важнейшими факторами, определяющими направление и конечный результат процесса самоорганизации, являются рассогласование постоянных решеток А и В, создающее упругие напряжения в системе и повышающие ее внутреннюю энергию, толщина слоя, свободные энергии поверхности подложки, границы раздела и осаждаемого слоя, граней и ребер кристаллических кластеров, которые могут образоваться, и некоторые другие. Как показывают тео-\n",
    "ретические расчеты, при определенных значениях параметров, характеризующих эти факторы, может образоваться однородный по структуре и толщине слой материала В, повторяющий структуру подложки (эпитаксиальный слой). При других значениях параметров может оказаться энергетически более выгодным, чтобы материал В образовал массив напряженных трехмерных кластеров определенных размеров и формы или собрался в один большой кластер.\n",
    "\n",
    "В зависимости от способа и условий выращивания СКТ могут иметь пирамидальную, линзообразную и другую форму. На рис. приведено зафиксированное на атомно-силовом микроскопе изображение слоя СКТ,\n",
    "полученного газофазной эпитаксией. Его анализ показывает, что СКТ имеют размер в основании ∼40 нм, высоту ∼6 нм и поверхностную плотность ∼$5\\cdot10^9 \\text{см}^{-2}$.\n",
    "\n",
    "![](Figs/self-qds.png)\n",
    "*Рис. Изображение поверхности слоя СКТ InAs/GaAs, полученное на атомно-силовом микроскопе. Волнообразная поверхность – это ступени на\n",
    "поверхности кристалла GaAs, образовавшиеся из-за того, что его срез специально сделан под углом 3° к грани куба. Кластеры InAs (СКТ) вырастают на углах ступеней. Следует обратить внимание на различие примерно в пять раз масштабов (указаны в нанометрах) на вертикальной и горизонтальных линейках [Карпович, 2001]*\n",
    "\n",
    "\n",
    "Энергетический спектр КТ обычно определяют с помощью методов фотолюминесцентной или фотоэлектрической спектроскопии. На рис. приведены экспериментальные спектры фотолюминесценции и фотопроводимости гетероструктуры с СКТ InAs/GaAs при комнатной температуре. На них хорошо видна дискретная природа энергетическо-\n",
    "го спектра СКТ. Энергия основного перехода $E_{e1}-E_{h1} = 0.91 \\text{эВ}$ ($\\lambda \\approx 1.3 \\text{мкм}$). Ширина пика около\n",
    "$\\text{30 мэВ}$, что является неплохим показателем однородности ансамбля СКТ. На спектрах видны также два перехода в возбужденные состояния СКТ и полочка при $h\\nu \\approx 1.35 \\text{эВ}$, принадлежащая смачивающему слою.\n",
    "\n",
    "![](Figs/self-spectra.png)\n",
    "\n",
    "*Рис. Спектры фотолюминесценции (1) и фотоэлектрической чувствительности (2) гетероструктуры с СКТ InAs/GaAs. Интенсивность излучения от СКТ более чем в 1000 раз превышает интенсивность излучения от слоя GaAs (пик при энергии фотонов ∼1,4 эВ, увеличен в 100 раз). На фотоэлектрическом спектре, отражающем спектр оптического поглощения структуры, наблюдается обратное соотношение между значениями фоточувствительности от СКТ и GaAs [Карпович, 2001]*\n",
    "\n",
    "Преимущества полупроводниковых лазеров на СКТ связаны с полной дискретностью энергетического спектра и высокой пространственной локализацией электронов и дырок в СКТ. Это приводит к снижению плотности порогового тока, при котором начинается генерация излучения, к повышению его температурной стабильности, увеличению усиления и мощности.\n",
    "\n",
    "На рис. показана схема лазера на СКТ, излучающего в плоскости этого слоя. Активная область лазера с СКТ InAs/GaAs встроена в p–n-переход в GaAs и ограничена с обеих сторон слоями InGaP или AlGaAs, имеющих меньший, чем у GaAs, показатель преломления. Эти слои создают оптический волновод для излучения, которое распространяется в плоскости СКТ. Торцевые грани лазера, полученные раскалыванием кристалла по плоскостям спайности и покрытые с одной стороны глухим, а с другой полупрозрачным зеркалом, образуют резонатор Фабри–Перо длиной около 1 мм.\n",
    "\n",
    "![](Figs/self-qds-laser.png)\n",
    "*Рис. Схема инжекционного полупроводникового лазера на СКТ. Подобное устройство имеет и лазер на квантовых ямах [Карпович, 2001]*\n",
    "\n",
    "Через p–n-переход пропускается ток в прямом направлении, что приводит к заполнению уровней СКТ электронами и дырками и возникновению при достаточно большой плотности тока инверсной населенности уровней и генерации излучения. Переход от спонтанной электролюминесценции в режим лазерной генерации проявляется в резком сужении линии излучении и увеличении ее интенсивности."
   ]
  },
  {
   "cell_type": "markdown",
   "metadata": {},
   "source": [
    "# Фрактальные агрегаты\n",
    "\n",
    "Структуры, образующиеся из наночастиц в результате их взаимодействия и конденсации в неравновесных условиях называют фрактальными агрегатами. Интуитивно геометрические модели различных природных объектов традиционно строились на основе сравнительно простых геометрических фигур: прямых, окружностей, сфер, многогранников. Однако очевидно, что этот классический набор, вполне достаточный для описания структуры плотных кристаллических и аморфных твердых тел, недостаточен при рассмотрении рыхлых пористых структур.\n",
    "\n",
    "Если образование конденсированных сред является компактным, то число структурных элементов (атомов, молекул или частиц), содержащихся в зародыше новой фазы размером $R$ определяется соотношением:\n",
    "\n",
    "$$N \\sim R^d,$$\n",
    "\n",
    "где $d$ — размерность пространства. Такой же вид фунациональной зависимости характерен для объема выделения $V = A_dR^d$, где $A_d$ — геометрический фактор, учитывающий форму выделения. Соответствующие геометрические факторы представлены в таблице. \n",
    "\n",
    "$d$ |      $A_d$        |\n",
    "----|--------------------\n",
    " 1  |        2          |\n",
    " 2  |      $\\pi$        |\n",
    " 3  | $\\dfrac{4\\pi}{3}$ |\n",
    "\n",
    "Плотность компактного выделения $\\rho = N/V$ — величина, не зависящая от размера.\n",
    "\n",
    "Совершенно другая ситуация наблюдается у некомпактных сред. Число частиц в фрактальном агрегате описывается той же зависимостью:\n",
    "\n",
    "$$N \\sim R^D,$$\n",
    "\n",
    "но здесь $D$ — фрактальная размерность, нецелая величина, меньшая $d$. В соответствии с этим плотность является убывающей функцией размера, что и отражает некомпактный характер фрактала:\n",
    "\n",
    "$$\\rho = \\dfrac{N}{V} \\sim \\dfrac{R^D}{A_dR^d},$$\n",
    "$$\\rho \\sim R^{D-d}, d > D.$$\n",
    "\n",
    "![](Figs/benar-scheme.png)\n",
    "*Рис. Схема образования ячейстой структуры (аналогичной ячейкам Бенара) с измененением фрактальной размерности внутри компактной системы*"
   ]
  },
  {
   "cell_type": "markdown",
   "metadata": {},
   "source": [
    "# Лабораторная работа 1. Фрактальные агрегаты\n"
   ]
  },
  {
   "cell_type": "markdown",
   "metadata": {},
   "source": [
    "# Лабораторная работа 2. Перколяция"
   ]
  },
  {
   "cell_type": "markdown",
   "metadata": {},
   "source": [
    "# Контрольные вопросы"
   ]
  },
  {
   "cell_type": "markdown",
   "metadata": {},
   "source": [
    "# Упражнения и задачи"
   ]
  },
  {
   "cell_type": "markdown",
   "metadata": {},
   "source": [
    "# Литература\n",
    "\n",
    "1. Золотухин И.В. Фракталы в физике твердого тела // Соросовский образовательный журнал. 1998. №7. С. 108-113."
   ]
  }
 ],
 "metadata": {
  "kernelspec": {
   "display_name": "Python 3",
   "language": "python",
   "name": "python3"
  },
  "language_info": {
   "codemirror_mode": {
    "name": "ipython",
    "version": 3
   },
   "file_extension": ".py",
   "mimetype": "text/x-python",
   "name": "python",
   "nbconvert_exporter": "python",
   "pygments_lexer": "ipython3",
   "version": "3.5.2"
  }
 },
 "nbformat": 4,
 "nbformat_minor": 2
}
