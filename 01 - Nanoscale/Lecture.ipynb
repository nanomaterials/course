{
 "cells": [
  {
   "cell_type": "markdown",
   "metadata": {},
   "source": [
    "# Вступительное занятие\n",
    "\n",
    "Интерес к наноматериалам обусловлен их физическими и химическими свойствами, существенно отличаюшимися от свойств макроскопического вещества. Уникальные свойства наноматериалов определяются их структурой на атомарном уровне, в частности, структурой границ раздела и поверхности. Роль, которую играют размер и структура наночастиц, во многих случаях сравнима с ролью химического состава. Это добавляет ещё один управляемый параметр для конструирования новых материалов с заданными свойствами — наноматериалов.\n",
    "\n",
    "Прогресс последних лет в исследовании наноматериалов обусловлен несколькими обстоятельствами:\n",
    "1. Методы нанотехнологии позволяют синтезировать наночастицы практически произвольной формы и состава.\n",
    "2. Методы диагностики дают возможность детально исследовать свойства наноструктур.\n",
    "3. Развитие вычислительных возможностей и соответствующих методов моделирования позволяет предсказывать и оптимизировать свойства наноматериалов и основанных на них устройств."
   ]
  },
  {
   "cell_type": "markdown",
   "metadata": {},
   "source": [
    "## Краткий исторический экскурс. Наноматериалы без нанотехнологий <a name=\"history\"></a>\n",
    "\n",
    "Изучение низкоразмерных объектов (порошков, пигментов, чернил, пленок, кластеров и др.), а также квантовых размерных явлений началось задолго до «нанобума»). Археологические находки свидетельствуют о существовании рецептур приготовления коллоидных систем еще в античном мире, а наиболее ранние биологические нанобъектов исчисляют свой возраст с момента возникновения жизни на Земле.\n",
    "\n",
    "Среди микро- и наночастиц важное место занимают металлические наночастицы, обладающие уникальными оптическими свойствами и способностью эффективно рассеивать и поглощать свет. Уже в давние времена люди научились применять их для окраски драгоценных камней. С этой целью в стекла при их изготовлении добавлялись ничтожные количества примесей металлов и их оксидов. Археологические раскопки показывают, что цветные стекла для витражей изготовлялись еще в Древнем Египте во втором тысячелетии до н.э. и в Древнем Риме с I в. н.э.\n",
    "\n",
    "Прекрасной иллюстрацией этих достижений цивилизации является сделанный мастерами Древнего Рима в IV н.э. знаменитый [кубок Ликурга](https://ru.wikipedia.org/wiki/Кубок_Ликурга). При освещени белым светом с разных сторон кубок «светится» либо красным, либо зеленоватым цветом. Долгое время причина эффекта не была понятна, но теперь известно, что такая игра цвета связана со светорассеянием на содержащихся в стекле золотых и серебряных наночастицах.\n",
    "\n",
    "![Кубок Ликурга](Figs/Lycurgus_Cup.jpg)\n",
    "\n",
    "*Рис. 1. Кубок Ликурга при освещении точечным источником света изнутри и рассеянным светом снаружи*\n",
    "\n",
    "Начиная со Средних веков и до настоящего времени металлические наночастицы широко используются в изготовлении витражей готических соборов. Прекрасными примерами использования металлических и полупроводниковых наночастиц для окраски стекол и кристаллов являются созданные в XIII-XIV вв. витражи [собора Парижской Богоматери](https://ru.wikipedia.org/wiki/Собор_Парижской_Богоматери).\n",
    "\n",
    "![Северная роза собора Парижской Богоматери](Figs/North_rose_window.jpg)\n",
    "\n",
    "*Рис. 2. Собор Парижской Богоматери: витражи северной розы (застекление 1255 г.) с фризами*\n",
    "\n",
    "В 1612 г. флорентийский священник и мастер по стеклу Антонио Нери описал в своем трактате Искусство стекла синтез коллоидного золота. Джон Кункель в 1689 г. перевёл работу на немецкий язык и разработал технологию получения «золотого рубинового стекла». Секреты технологии были зановы открыты [М.В. Ломоносовым](https://ru.wikipedia.org/wiki/Ломоносов,_Михаил_Васильевич). Согласно Ломоносову для получения необходимо в обычное стекло добавить незначительное количество (0,01-0,1 %) раздробленных частиц золота диаметром 4-30 мкм. Однако близкого эффекта можно добиться без использования частиц золота — так, для получения рубинового стекла изготовленных в 1937 г. [звезд Московского Кремля](https://ru.wikipedia.org/wiki/%D0%9A%D1%80%D0%B5%D0%BC%D0%BB%D1%91%D0%B2%D1%81%D0%BA%D0%B8%D0%B5_%D0%B7%D0%B2%D1%91%D0%B7%D0%B4%D1%8B) в стекло добавлялись элементарный селен и соль кадмия, которые в процессе варки стекла давали микрокристаллы селенида кадмия CdSe).\n",
    "\n",
    "![Московский Кремль](Figs/View_of_the_Moscow_Kremlin_at_night.jpg)\n",
    "\n",
    "*Рис. 3. Вид на Московский Кремль с Пречистенской набережной*\n",
    "\n",
    "Наивную форму нанотехнологий практиковали также гончары из итальянской провинции Умбрия в XV-XVI вв. В цветной глазури образцов  керамики умбрийского города Дерута отражающие свойства микроскопических металлических частиц использовались для придания глазури необычного блеска. Строго регулируемая техника обжига позволяла получать предметы с блестящей поверхностью.\n",
    "\n",
    "![Умбрийская ваза](Figs/Deruta.jpg)\n",
    "\n",
    "*Рис. 4. Умбрийская ваза XVI в.*\n",
    "\n",
    "Систематические научные исследования нанообъектов начались в середине XIX в., когда [Майкл Фарадей](https://ru.wikipedia.org/wiki/%D0%A4%D0%B0%D1%80%D0%B0%D0%B4%D0%B5%D0%B9,_%D0%9C%D0%B0%D0%B9%D0%BA%D0%BB) получил и исследовал свойства коллоидных растворов высокодисперсного золота и пленок на его основе. [Густав Ми](https://ru.wikipedia.org/wiki/Ми,_Густав) впоследствии предложил теоретические основы описания оптических свойств наночастиц, которые широко используются по настоящее время. \n",
    "\n",
    "В первой половине XX в. наука о коллоидах была областью исследований лишь нескольких специализированных групп. Пренебрежение наукой о коллоидах побудило [Вильгельма Фридриха Оствальда](https://ru.wikipedia.org/wiki/Оствальд,_Вильгельм_Фридрих) назвать свою вышедшую в 1915 г. книгу о коллоидах «Мир обойденных величин». Вместе с тем это время свидетельствовало об успехах в разработке методов получения коллоидного золота. Для приготовления золей золота Бредик использовал зажигание дуги между помещенным в щелочной раствор золотым электродами, Донау предложил пропускать газ моноокси углерода CO через раствор золотохлористой кислоты, а [Рихард Зигмонди](https://ru.wikipedia.org/wiki/Зигмонди,_Рихард) открыл метод затравки (seeding method), и использовал формальдегид и слабую щелочь для получения золя золота из его солей. Вручение Зигмонди в 1925 г. Нобелевской премии по химии частично было обусловлено его работой с коллоидами золота.\n",
    "\n",
    "Большой подъем в использовании методов коллоидной химии для получения наночастиц различных материалов произошел во второй половине XX в. благодаря возбуждению, вызванному наукой о наноматериалах, инициированному в 1959 г. известной лекцией Нобелевского лауреата Р. Фейнмана «Внизу полным-полно места: приглашение в новый мир физики», в которой было подчеркнуто принципиальное значение малоразмерных объектов. Фейнаман акцентировал внимание на важности работ в области сжатия информации, создания миниатюрных компьютеров, дизайна материала и устройств методами молекулярной архитектуры. Большие надежды возлагались на химический синтез, причем отмечалось, что законы физики не запрещают конструирования материалов на атомно-молекулярном уровне (вы можете прочитать приложенные к этому файлу [оригинал лекции](Feynman_en.pdf) или ее [перевод в журнале «Химия и жизнь»](Feynman_ru.pdf)).\n",
    "\n",
    "Первые средства для нанотехнологии были изобретены в Цюрихе и Рюмликоне, в швейцарских лабораториях фирмы IBM. В 1981 г. появился [сканирующий туннельный микроскоп](https://ru.wikipedia.org/wiki/Сканирующий_туннельный_микроскоп), предназначенный для изучения атомной и молекулярной структуры поверхности проводящих веществ. Четыре года спустя, в 1986 г., его создатели [Герд Биннинг](https://ru.wikipedia.org/wiki/Бинниг,_Герд_Карл) и [Генрих Рорер](https://ru.wikipedia.org/wiki/Рорер,_Генрих) получили Нобелевскую премию по физике. Однако множество трудностей, усложнявших исследование образцов в сканирующем туннельном микроскопе, побудили тех же авторов к 1986 г. разработать [атомно-силовой микроскоп](https://ru.wikipedia.org/wiki/Сканирующий_атомно-силовой_микроскоп). Одно из основных преимуществ атомно-силового микроскопа — возможность работы с непроводящими объектами. Эти микроскопы стали первыми воплощениями фейнмановской машины для манипуляций на атомарному уровне. В том же 1986 г. вышла книга [Эрика Дрекслера](https://ru.wikipedia.org/wiki/Дрекслер,_Эрик) (MIT, США) «Машины созидания: пришествие эры нанотехнологии», в которой были развиты идеи Фейнмана и введены представления о молекулярных роботехнических машинах."
   ]
  },
  {
   "cell_type": "code",
   "execution_count": 1,
   "metadata": {
    "scrolled": true
   },
   "outputs": [
    {
     "data": {
      "image/jpeg": "[encoded data removed]",
      "text/html": [
       "\n",
       "        <iframe\n",
       "            width=\"400\"\n",
       "            height=\"300\"\n",
       "            src=\"https://www.youtube.com/embed/oSCX78-8-q0\"\n",
       "            frameborder=\"0\"\n",
       "            allowfullscreen\n",
       "        ></iframe>\n",
       "        "
      ],
      "text/plain": [
       "<IPython.lib.display.YouTubeVideo at 0x7f78c010e630>"
      ]
     },
     "execution_count": 1,
     "metadata": {},
     "output_type": "execute_result"
    }
   ],
   "source": [
    "from IPython.lib.display import YouTubeVideo\n",
    "YouTubeVideo('oSCX78-8-q0')"
   ]
  },
  {
   "cell_type": "markdown",
   "metadata": {},
   "source": [
    "Параллельно развивались и концепции наноматериалов. Впервые они были сформулированы применительно к металлическим материалам Гербертом Глейтером в 1981 г. Главная роль была отведена поверхностям раздела (границам зерен) как фактору, позволяющему существенно изменить свойства твердых тел путем модификации структуры и электронного строения. Глейтером предложен метод получения ультадисперсных порошков путем испарения–конденсации с последующей вакуумной консолидацией при высоких давлениях. Первые работы в этом направлении дали практический успех — полученные в 1983 г. по методу Глейтера нанокристаллические образцы никеля Ni обладали вдвое большей твердостью, чем обычный поликристаллический Ni.\n",
    "\n",
    "## Условный диапазон размеров\n",
    "\n",
    "Cущность нанотехнологии состоит в возможности работать на атомном и молекулярном уровне, в масштабе длин 1–100 нм, для того, чтобы создавать и использовать материалы и устройства, имеющие новые свойства и функции благодаря малой шкале их структуры. Диапазон размеров 1–100 нм является очевидно условным. Нижняя граница обусловлена тем, что для объектов меньше 1 нм, таких как атомы и молекулы, научные дисциплины начали развиваться сравнительно давно. В действительности границы совершенно размыты – например, фуллерен C$_{60}$ относят и к молекулам, и к наноматериалам.\n",
    "\n",
    "Дисперсное состояние характеризуется важными особенностями, отличающими его от макроскопических образцов того же вещества.\n",
    "\n",
    "1. Сложная внутренняя организация ультрадисперсных частиц существенно отлчается от структуры крупных частиц (в т. ч. по типу структуры кристаллической решетки и по степени ее симметриии). Особая структура присуща кластерам.\n",
    "2. Сильная зависимость свойств от размера частиц. К числу этих свойств относятся физические (тепловые, механические, электрические, магнитные) и химические (каталитическая активность, растворимость) свойства. В ряде случаев свойства наночастиц имеют квантово-размерный характер, т.е. наночастицы можно рассматривать как своеобразные молекулы с квантовыми свойствами.\n",
    "\n",
    "От размера частиц, в частности, зависят:\n",
    "- кристаллическая структура и степень симметрии кристаллической решетки;\n",
    "- термодинамические параметры — теплоемкость, температура плавления, температура Дебая;\n",
    "- механические свойства — прочность и пластичность;\n",
    "- магнитные и электрические свойства;\n",
    "- химические свойства, например, каталитическая активность."
   ]
  },
  {
   "cell_type": "markdown",
   "metadata": {},
   "source": [
    "## Влияние размеров на химические свойства\n",
    "\n",
    "### Влияние на реакционную способность\n",
    "\n",
    "\n",
    "При постоянных температуре, площади межфазной поверхности, числе молей и количества электричества:\n",
    "$$dG = VdP$$\n",
    "\n",
    "Запишем это выражение через приращения:\n",
    "$$\\Delta G = V \\Delta P$$\n",
    "\n",
    "Учтем уравнение Лапласа для сферической формы частиц:\n",
    "\n",
    "$$\\Delta P = -\\dfrac{2\\sigma}{r}$$\n",
    "\n",
    "тогда\n",
    "\n",
    "$$\\Delta G = -\\dfrac{2\\sigma V_m}{r},$$\n",
    "\n",
    "где $V_m$ — мольный объем.\n",
    "\n",
    "Таким образом, с уменьшением размера частиц их реакционная способность возрастает обратно пропорционально их линейным размерам. Происходит интенсификация химических взаимодействий, в том числе, например, реакций горения. Так, в случае горючих жидкостей, при достаточно высокой степени диспергирования (до состояния тумана), кинетика процессов горения может стать безактивационной и  носить взрывной характер. Повышение реакционной способности некоторых металлов в порошкообразном состоянии может сопровождаться их горением даже в бескислородной среде."
   ]
  },
  {
   "cell_type": "markdown",
   "metadata": {},
   "source": [
    "## Доля поверхностных атомов\n",
    "\n",
    "Рассмотрим однородный твердый материал компактной формы, например, сферической, имеющий макроскопические линейные размеры порядка единиц мм. Большинство его свойств будет определяться химическим составом и кристаллической структурой. Для объектов таких размеров поверхностные атомы составляют незначительную долю от общего числа атомов и, следовательно, играют незначительную роль в свойствах материала. \n",
    "\n",
    "При рассмотрении на атомном уровне поверхность твердого тела представляет собой зону нескомпенссированных связей. Особенностью наночастиц является то, что доля поверхностных атомов, ионов или молекул возрастает в сравнении с долей элементов, находящихся внутри частицы. Этим объясняется возникновение ряда уникальных свойств, присующих наночастицам. \n",
    "\n",
    "Определим долю поверхностных атомов $w_s$ как отношение числа атомов, находящихся на поверхности $N_s$ к общему числу атомов $N$:\n",
    "\n",
    "$$\n",
    "w_s = \\dfrac{N_s}{N}.\n",
    "$$\n",
    "\n",
    "Считая, что атомы на поверхности занимают тот же объем, что внутри структуры, можно представить долю поверхностных атомов через отношение объема поверхностного слоя толщиной в диаметр атома ($2r$) к объему тела $V$:\n",
    "\n",
    "$$\n",
    "w_s = \\dfrac{V_s}{V} \\approx \\dfrac{S \\cdot 2r}{V} = \\dfrac{4\\pi R^2 2r}{\\dfrac{4}{3}\\pi R^3} = \\dfrac{6r}{R}.\n",
    "$$\n",
    "\n",
    "Несколько более точно можно рассмотреть эту задачу, разбив объем на соответствующий поверхностному слою $V_s$ и внутренний объему $V_v$:\n",
    "\n",
    "$$\n",
    "w_s = \\dfrac{V_s}{V} = \\dfrac{V-V_v}{V} = \\dfrac{R^3-(R-2r)^3}{R^3} = \\dfrac{6R^2r-12Rr^2+8r^3}{R^3}.\n",
    "$$\n",
    "\n",
    "При сравнении выражений видно, что первое решение является частным случаем последнего для $R >> r$. Таким образом, последнее выражение более точно для задачи малых размеров."
   ]
  },
  {
   "cell_type": "code",
   "execution_count": 7,
   "metadata": {},
   "outputs": [
    {
     "data": {
      "image/png": "[encoded data removed]",
      "text/plain": [
       "<matplotlib.figure.Figure at 0x7ff0927ac9b0>"
      ]
     },
     "metadata": {},
     "output_type": "display_data"
    }
   ],
   "source": [
    "%matplotlib inline\n",
    "import numpy as np\n",
    "import matplotlib.pyplot as plt\n",
    "\n",
    "def w_s_0(r, R):\n",
    "    '''Менее точное, но наглядное выражение'''\n",
    "    return 6*r/R\n",
    "\n",
    "def w_s(r, R):\n",
    "    '''Более точный вариант'''\n",
    "    return (6*R**2*r - 12*R*r**2 + 8*r**3)/R**3\n",
    "\n",
    "r_Au = 136e-12   # ковалентный радиус атома золота\n",
    "R = np.linspace(1, 10)*1e-9\n",
    "\n",
    "plt.plot(R/1e-9, w_s_0(r_Au, R), label='$\\dfrac{6r}{R}$')\n",
    "plt.plot(R/1e-9, w_s(r_Au, R), label='$\\dfrac{6R^2r-12Rr^2+8r^3}{R^3}$')\n",
    "plt.xlabel('$R$, нм')\n",
    "plt.ylabel('$w_s$')\n",
    "plt.legend()\n",
    "plt.show()"
   ]
  },
  {
   "cell_type": "markdown",
   "metadata": {},
   "source": [
    "Из приведенного построения можно видеть, что уже для наночастиц с диаметром менее 2 нм доля поверхностных атомов составляет более 50%. Рассмотрим к каким эффектам это приводит.\n",
    "\n",
    "## Эффект изменения постоянной решетки\n",
    "\n",
    "Рассмотрим наночастицу с диаметром $2R$. Искривление поверхности приводит к [избыточному давлению](https://ru.wikipedia.org/wiki/Капиллярное_давление) внутри сферы, описываемому уравнением Лапласа:\n",
    "\n",
    "$$\\Delta P dV = \\gamma dS,$$\n",
    "\n",
    "где $dV$ — изменение объема, соответствующее изменению поверхности на величину $dS$. В случае сферы решение дифференциального уравнения дает следующее избыточное давление:\n",
    "\n",
    "$$\\Delta P = \\dfrac{2\\gamma}{R}.$$\n",
    "\n",
    "В общем случае поверхностная энергия задается тензором напряжений, однако в простейшием изотропном приближении малой частицы будем считать эту величину скаляром равным поверхностному натяжению. \n",
    "\n",
    "С другой стороны, существует понятие [сжимаемости вещества](https://ru.wikipedia.org/wiki/Сжимаемость). Соответствующий коэффициент всестороннего сжатия определяется выражением\n",
    "\n",
    "$$\\beta = -\\dfrac{1}{V}\\dfrac{\\Delta V}{\\Delta P},$$\n",
    "\n",
    "$$\\beta = -\\dfrac{1}{a^3}\\dfrac{a^3 - (a-\\Delta a)^3}{\\Delta P} \\approx -\\dfrac{\\Delta a}{a}\\dfrac{3}{\\Delta P},$$\n",
    "\n",
    "выразим относительное изменение постоянной решетки, учитывая выражение для избыточного давления:\n",
    "\n",
    "$$\\dfrac{\\Delta a}{a} = -\\dfrac{2}{3}\\dfrac{\\beta \\gamma}{R}.$$\n",
    "\n",
    "Относительно справочных данных для коэффициента сжимаемости удобнее рассматривать обратную величину [объемный модуль упругости](https://ru.wikipedia.org/wiki/Объёмный_модуль_упругости) $B = \\beta^{-1}$.\n",
    "\n",
    "Таким образом, изменение среднего значения постоянной решетки тем больше, чем меньше размер наночастицы и модуль ее упругости и чем выше поверхностное натяжение материала."
   ]
  },
  {
   "cell_type": "code",
   "execution_count": 8,
   "metadata": {},
   "outputs": [
    {
     "data": {
      "image/png": "[encoded data removed]",
      "text/plain": [
       "<matplotlib.figure.Figure at 0x7ff08e320860>"
      ]
     },
     "metadata": {},
     "output_type": "display_data"
    }
   ],
   "source": [
    "import numpy as np\n",
    "import pandas as pd\n",
    "import matplotlib.pyplot as plt\n",
    "\n",
    "metals = pd.read_csv('../Data/metals.csv')\n",
    "\n",
    "R = np.linspace(1, 10)*1e-9\n",
    "\n",
    "for i, material in metals.iterrows():\n",
    "    gamma = material['Поверхностное натяжение, Дж/м2']\n",
    "    K = material['Объемный модуль упругости, ГПа']*1e9\n",
    "    label = material['Материал']\n",
    "    plt.plot(R/1e-9, -2/3*gamma/(K*R)*100, label=label)\n",
    "\n",
    "plt.xlabel('$R$, нм')\n",
    "plt.ylabel('$\\dfrac{\\Delta a}{a}$, %')\n",
    "plt.legend()\n",
    "plt.show()"
   ]
  },
  {
   "cell_type": "markdown",
   "metadata": {},
   "source": [
    "** Пример **. При рентгеноструктурном анализе параметров порошков BaTiO$_3$, полученного методами гидротермального синтеза обнаружено, что соотношение длин осей $c/a$, зарактерное для тетрагональной модификации, снижалось, что говорит о повышении симметричности при уменьшении размера частиц ниже 200 нм. Это можно объяснить воздействие на частицы сил сжатия, возникающих в результате собственного поверхностного натяжения."
   ]
  },
  {
   "cell_type": "markdown",
   "metadata": {},
   "source": [
    "### Длина связей в приповерхностном слое\n",
    "\n",
    "Рассмотренный выше эффект имеет усредненный характер, так как выведен из макроскопических предположений и термодинамических и механических характеристик объемных материалов. В то же время для приповерхностного слоя зачастую наблюдается еще большее изменение:\n",
    "\n",
    "- Методом дифракции медленных электронов установлено $\\sim$10%-ое уменьшение первого межслоевого $(10-10)$ расстояния на поверхности частиц Ru, Co, Re.\n",
    "- Межслоевое расстояние между первым и вторым слоем (111) поверхности алмаза на $30\\%$ меньше, чем $d_{111}$ в объеме вещества.\n",
    "- С помощью дифракции очень медленных электронов было обнаружено 4-12%-ое сокращение связи O–Cu на  поверхности $(001)$ кристалла и $10\\%$-ое сокращение на поверхности $(110)$.\n",
    "\n",
    "Уменьшение длины связей на поверхности уменьшает удельную поверхностную энергию системы. Поэтому кроме описанного эффекта избыточного давления, воздействующего на всю частицу в целом, необходимо учитывать \"обрыв\" периодического потенциала, создаваемого кристаллической решеткой у поверхности. Для поверхностных атомов характерны:\n",
    "\n",
    "1. Уменьшение координационного числа атомов ($z$).\n",
    "2. Возникновение поверхностного потенциального барьера.\n",
    "\n",
    "Уменьшение $z$ поверхностных атомов приводит к возникновению локально-избыточной электронной плотности и сокращению длины связей с остальными атомами.\n",
    "\n",
    "Одним из подходов к описанию изменения длины связей в плотноупакованных решетках является приближение В. Гольдшмидта:\n",
    "\n",
    "$$\n",
    "\\frac{\\Delta d} {d} = \\dfrac{1 - e^\\frac{12-z}{8z} } {1 + e^\\frac{12-z}{8z} }\n",
    "$$"
   ]
  },
  {
   "cell_type": "code",
   "execution_count": 3,
   "metadata": {},
   "outputs": [
    {
     "data": {
      "image/png": "[encoded data removed]",
      "text/plain": [
       "<matplotlib.figure.Figure at 0x7ff094967780>"
      ]
     },
     "metadata": {},
     "output_type": "display_data"
    }
   ],
   "source": [
    "import numpy as np\n",
    "import matplotlib.pyplot as plt\n",
    "\n",
    "def dd(z):\n",
    "    p = (12-z)/(8*z)\n",
    "    return (1-np.exp(p))/(1+np.exp(p))\n",
    "\n",
    "z = np.arange(12, 1, -1)\n",
    "plt.plot(z, dd(z)*100, 'o')\n",
    "plt.xlabel('z')\n",
    "plt.ylabel('$\\dfrac{\\Delta d} {d}$, %')\n",
    "plt.show()"
   ]
  },
  {
   "cell_type": "markdown",
   "metadata": {},
   "source": [
    "Можно видеть, что сокращение длины связей поверхностных атомов может иметь существенно большие величины, чем то изменение, что создается за счет изменения кривизны поверхности. Аналогичное сокращение межатомных расстояний во внешних атомных слоях наблюдается для большинства металлов, хотя в литературе встречаются и противоположные примеры."
   ]
  },
  {
   "cell_type": "markdown",
   "metadata": {},
   "source": [
    "## Корреляционные радиусы (характеристические длины) физических явлений\n",
    "\n",
    "\n",
    "Научный интерес к наноразмерному состоянию твердого тела в дисперсном и компактном виде связан с различными эффектами в свойствах частиц материала, размеры которых соизмеримы с *корреляционными радиусами (характеристическими длинами)* физических явлений, фигурирующих в теоретическом описании свойства или процесса, например, длина свободного пробега электронов для электропроводности, диаметр петли Франка-Рида для скольжения дислокаций, длина когерентности в сверхпроводниках, длина волны упругих колебаний, размер экситона в полупроводниках, размер магнитного домена в ферромагнетиках и т.д. Установить какой-либо единственный диапазон (как это сделано в условном геометрическом подходе) не представляется возможным, т.к. диапазон изменения характеристических длин применительно к разнообразным твердотельным объектам весьма широк. \n",
    "\n",
    "Все эффекты можно условно разделить на *граничные* – связанные с увеличением доли поверхностных атомов либо межзеренных границ и *размерные* – обусловленные изменением общего количества атомов в составе единичной структуры. Это условное разделение показывает какой из этих аспектов играет большую роль. \n",
    "\n",
    "Если представить твердое тело в виде шара, то отношение площади поверхности к его объему обратно пропорционально диаметру шара. Независимо от формы тела, по мере уменьшения размеров отношение площади поверхности к объему растет. Приповерхностная область объема может иметь существенно иные свойства $P_S$, чем свойства $P_V$ внутреннего объема $V_V$. Таким образом, даже усредненные по объему тела $V = V_S + V_V$ свойства не являются удельными:\n",
    "\n",
    "$$ \\overline{P} = \\frac{1}{V}\\int_0^{V} P\\mathrm{d}V = \\frac{1}{V} \\left(\\int_0^{V_S}P_S\\mathrm{d}V + \\int_0^{V_V}P_V\\mathrm{d}V \\right)$$\n",
    "и зависят от размеров тела тем сильнее, чем большую долю занимает объем поверхности $V_S$ и чем сильнее отличаются приповерхностные $P_S$ и объемные свойства $P_V$. Рассмотрим подробнее различные эффекты и определим характеристические длины."
   ]
  },
  {
   "cell_type": "markdown",
   "metadata": {},
   "source": [
    "### Область пространственного заряда\n",
    "\n",
    "Определим что является характеристической длиной для эффекта образования области пространственного заряда (space-charge region).\n",
    "\n",
    "Концентрации носителей заряда в приконтактных областях соседствующих материалов зависят от координаты. Каждый из материалов характеризуется своими работой выхода, значениями концентрации и подвижности носителей заряда, а следовательно, и коэффициентами диффузии. Носители заряда диффундируют из одного материала в другой, перенося свой заряд с собой, создавая слои, обедненные или обогащенные носителями заряда. Этот диффузионный ток постепенно уравновешивается обратным по направлению дрейфовым током, протекающим под воздействием  образовавшегося электрического поля. Установится диффузионно-дрейфовое равновесие, а свойства приконтактных областей станут отличными от свойств в объеме. \n",
    "\n",
    "Приповерхностный слой даже идеального кристалла, соседствующего с вакуумом, также может быть обедненным или обогащенным носителями заряда. В объеме связи насыщены, а на свежеобразованной поверхности часть связей свободна.  Трансляционная симметрия — одно из свойств кристаллической структуры, присущее объему, то есть неизменность свойств при переходе из точки $\\pmb{r}$ в точку $\\pmb{r} + n\\pmb{a}$, у поверхности нарушается. Это приводит к тому, что у границы кристалла возникают новые энергетические уровни электронов, которых нет в объеме. Эти уровни могут занимать электроны из объема, или электроны с них могут уходить в объем, создавая таким образом обедненные или обогащенные носителями заряда приповерхностные области. Наконец образующиеся свободные связи могут насыщаться связями с атомами или молекулами окружающей среды, что в свою очередь  приводит к обогащению или обеднению носителями, модифицирует структуру и другие свойства приповерхностного слоя. \n",
    "\n",
    "Таким образом, характеристической длиной является толщина такого обедненного или обогащенного слоя пространственного заряда — толщина области пространственного заряда $L_\\mathrm{SCR}$. Эта величина зависит от концентрации свободных носителей заряда в объеме и тем меньше, чем больше концентрация. Естественно, что области пространственного заряда возникают в обеих контактирующих средах и зависят от свойств обеих сред. Обычно значения $L_\\mathrm{SCR}$ не превосходят 1 мкм. Таким образом, вещество окружено слоем пространственного заряда, влияние которого на усредненные по объему и толщине свойства может быть весьма значительным. В качестве примера рассчитаем усредненную электропроводность $\\overline{\\sigma}$ пластины толщиной $d$. Для упрощения воспользуемся усредненной по $L_\\mathrm{SCR}$ проводимостью слоя $\\sigma_S$ и значением электропроводности объема $\\sigma_V$. Тогда при пропускании тока вдоль пластины слои соединены параллельно и\n",
    "\n",
    "$$\\overline{\\sigma}_\\parallel = \\sigma_V \\left(1 - 2\\frac{L_\\mathrm{SCR}}{d}\\right) + 2 \\sigma_S \\frac{L_\\mathrm{SCR}}{d},$$\n",
    "а при токе, перпиндикулярном большой грани пластины, — последовательно:\n",
    "\n",
    "$$\\overline{\\sigma}_\\perp = \\frac{\\sigma_V\\sigma_S}{\\sigma_S + 2(\\sigma_V - \\sigma_S)\\dfrac{L_\\mathrm{SCR}}{d}}.$$\n",
    "\n",
    "Этот упрощенный учет влияния приповерхностных свойств тем не менее приводит к важным выводам: 1) полученные усредненные значения зависят от геометрических размеров, 2) отличие полученных значений электропроводности от исходной объемной носит не только количественный характер — полученная проводимость анизотропна, то есть ее значения зависят от направления протекания тока по отношению к поверхности пластины.\n",
    "\n",
    "Более строгое рассмотрение, учитывающее  влияние образовавшихся встроенных полей на протекание тока, показывается, что сама проводимость зависит от внешнего поля.\n",
    "\n",
    "Рассмотренные отличия проявляются тем больше, чем ближе толщина пластины к характеристической длине, в данном случае к $L_\\mathrm{SCR}$.\n",
    "\n",
    "Отличительной особенностью структур с малыми размерами является то, что их свойства могут резко зависеть от окружения. Если толщина полупроводникового слоя приближается к толщине обедненного носителями слоя, растет влияние контактирующей среды. Толщина обедненного слоя в свою очередь зависит от контактирующей среды. Изменяется распределение результирующего электрического поля в слоях структуры, что в свою очередь вызывает изменение концентрации ионизированной примеси. Эта цепь взаимосвязанных процессов может приводить к неожиданным результатам.\n",
    "\n",
    "![](Figs/Si-SiN.png)\n",
    "\n",
    "*Рис. Зависимость сопротивления структуры,  образованной парами слоев полупроводник—диэлектрик (кремний/нитрид кремния) от числа пар слоев М. Нанесение диэлектрика повышает проводимость полупроводникового слоя. \"Соседи\" на всех \"этажах\" (парах слоев) влияют друг на друга*\n",
    "\n",
    "Примером может служить так называемое *легирование переносом* (Рис. ). Оно в парадоксальном на первый взгляд явлении резкого увеличения проводимости тонкого полупроводникового слоя при осаждении на него диэлектрика. Толщина полупроводникового слоя меньше длины экранирования. Контакт с подложкой обедняющий. Однако осаждение диэлектрического слоя поверх полупроводникового слоя приводит к перераспределению электрического поля, в результате чего падение потенциала у границы подложка–слой снижается, обеднение уменьшается и проводимость растет. Рис. (?) отображает экспериментальные данные падения сопротивления структуры в ходе ее образования последовательным осаждением слоев аморфного гидрогенизированного кремния (4–40 нм) и нитрида кремния (2,5–5 нм). Наблюдаемый рост проводимости на 3–4 порядка не является предельным."
   ]
  },
  {
   "cell_type": "markdown",
   "metadata": {},
   "source": [
    "### Длина экранирования\n",
    "\n",
    "Длина экранирования $L_\\mathrm{s}$ (screening length) характеризует зависимость спада внешнего электрического поля от расстояния в проводящей среде. Под действием электрического поля у поверхности изолированной проводящей среды происходит перемещение свободных носителей заряда до тех пор, пока возникшее внутреннее поле не уравновесит внешнее. Мы отмечаем, что внутри металла (проводящей среды) электрическое поле равно нулю. Естественно, что это равновесие подвижно. Энергия теплового движения носителей обеспечивает их диффузию из обогащенного слоя в обедненный, а поле их возвращает. Диффузионный и дрейфовый токи уравниваются. Толщина обедненного или обогащенного слоя уменьшается с ростом концентрации носителей заряда $n$ и растет с ростом энергии теплового движения $\\sim kT$. Спад потенциала электрического поля в приповерхностной области происходит экспоненциально $\\sim e^{-x/L_\\mathrm{s}}$, длина экранирования $L_\\mathrm{s}$ «несет на себе» следы кулоновского взаимодействия: \n",
    "\n",
    "$$L_\\mathrm{s} = \\sqrt{\\frac{\\varepsilon\\varepsilon_0kT}{q^2n}}.$$\n",
    "\n",
    "Концентрация свободных носителей заряда $n$ изменяется от вещества к веществу в широких пределах; соответственно от десятых долей нм до единиц мкм изменяется и длина экранирования.\n",
    "\n",
    "А что же будет, если толщина слоя окажется меньше длины экранирования? Внешнее поле не уравновесится внутренним, электрическое поле проникнет внутрь вещества. Это изменит распределение потенциала не только в данном слое, но и в соседних слоях структуры. Изменение изгиба энергетических зон приведет к изменению концентрации свободных носителей заряда. Таким образом, переход к толщинам, сопоставимым с длиной экранирования и меньшим ее, не только изменяет свойства рассматриваемого слоя, но может менять свойства рядом расположенных слоев структуры."
   ]
  },
  {
   "cell_type": "markdown",
   "metadata": {},
   "source": [
    "### Длина свободного пробега\n",
    "\n",
    "Неупорядоченное тепловое движение электронов совершается со значительно большими средними скоростями $v_T$, чем скорость направленного движения $v_d$ — скорость дрейфа электронов под действием электрического поля $E$. В обычных образцах $v_d$ определяется полем и средним временем свободного пробега $\\tau$:\n",
    "\n",
    "$$v_d = a\\tau,$$\n",
    "\n",
    "$$qE = ma,$$\n",
    "\n",
    "$$j = nqv_d = qn\\frac{\\tau q}{m} E = qn\\mu E = \\sigma E,$$\n",
    "где $m$ — масс электрона, $a$ — ускорение электрона между столкновениями, $j$ — плотность электрического тока, $\\mu$ — подвижность электронов. В этой записи закона Ома подвижность $\\mu$ и электропроводность $\\sigma$ не зависят от размеров образца и поля $E$, то есть являются удельными параметрами.\n",
    "\n",
    "Но, что если размеры образца малы по сравнению с длиной свободного пробега ($d < l = v\\tau$)? Весьма вероятно, что ни одного акта рассеяния не произойдет. Электрон будет ускоряться полем, не испытывая соударений, как в вакууме, и за время пролета наберет скорость\n",
    "\n",
    "$$v_d = \\sqrt{\\frac{2qEd}{m}}.$$\n",
    "\n",
    "Тогда\n",
    "\n",
    "$$j = nq\\sqrt{\\frac{2qEd}{m}}.$$\n",
    "\n",
    "Очевидно, что и $\\mu$ и $\\sigma$ становятся зависимыми от линейных размеров и от величины поля. При таком *баллистическом* переносе электропроводность не только станет иной по значению, но может изменяться в зависимости от частоты. Изменятся и другие свойства материалов, определяемые чередованием актов рассеяния электронов по материалу, — коэффициент диффузии, теплопроводность. Численные оценки длинны свободного пробега показывают, что $l$ у разных материалов меняется в пределах от долей до десятков нм.\n",
    "\n",
    "### Длина волны электрона\n",
    "Рассмотренные выше свойства используются в традиционной полупроводниковой электронике. Принципиально новые возможности возникают, когда размеры элементов в структурах становятся сопоставимы с длиной волны электрона в веществе $\\lambda$. Согласно формуле де Бройля\n",
    "\n",
    "$$p = \\frac{h}{\\lambda}$$,\n",
    "где $p$ — импульс частицы, $h$ — постоянная Планка. Если частица массой $m$ имеет импульс $p$, то \n",
    "\n",
    "$$E = \\frac{p^2}{2m} = \\frac{h^2}{2m\\lambda^2},$$\n",
    "\n",
    "$$\\lambda = \\frac{h}{\\sqrt{2mE}}.$$\n",
    "\n",
    "Представим, что электрон находится внутри тонкого слоя толщиной $d$, то есть в потенциальной яме высотой $U$ и толщиной $d$, причем $U$ значительно больше энергии частицы в яме. Вне ямы вероятность нахождения электрона крайне мала и, следовательно волновая функция $\\psi(x)$, квадрат модуля которой равен вероятности нахождения частицы, на границах ямы близка к нулю. Выполнение этого условия возможно лишь при определенных значениях $\\lambda$, связанных с толщиной $d$ очевидным соотношением $d = n\\lambda/2$ при $n = 1, 2, 3, ...$ Следовательно $\\lambda = 2d/n$ и значение импульса и энергии определяется толщиной:\n",
    "\n",
    "$$p_n = \\frac{hn}{2d},$$\n",
    "\n",
    "$$E_n = \\frac{h^2n^2}{8md^2}.$$\n",
    "\n",
    "Такие ямы и описываемые ими тонкие слои называются квантовыми ямами. В таком слое движение электрона в зоне проводимости по двум координатам, так же как в обычном веществе, характеризуется непрерывной зависимостью энергии от импульса (в простом случае параболической), а вдоль одной координаты, перпендикулярной границе слоя, квантованно. Конечная концентрация электронов, тепловое движение, возможные неоднородности структуры материала являются причиной размытия энергетических уровней, так что они превращаются в узкие *минизоны*.\n",
    "\n",
    "Если мы ограничим тело по двум координатам, например, превратим его в тонкий параллелепипед, то разрешенные энергетические уровни\n",
    "\n",
    "$$E_{nl} = \\frac{h^2n^2}{8md_1^2} + \\frac{h^2l^2}{8md_2^2},$$\n",
    "где $d_1$ и $d_2$ — размеры прямоугольного параллелепипеда в сечении, а $n$ и $l$ — целые числа. Так можно создавать квантовые нити, а при ограничении по трем координатам — квантовые точки, и во всех таких типах структур получать совершенно иную, чем в монолитных материалах, зонную структуру. При переходе от одного типа квантовых ограничений к другому изменяется не только зонная структура, но и плотность состояний — количество уровней на единицу энергии и вид зависимостей плотности состояний от энергии. Энергетическая зонная структура является основой, определяющей поведение вещества при различных воздействиях, его электрофизические и оптические свойства.\n"
   ]
  },
  {
   "cell_type": "markdown",
   "metadata": {},
   "source": [
    "### Термодинамические параметры - темплоемкость, температура плавления, температура Дебая\n",
    "\n",
    "Меняются такие такие свойства температура плавления, теплопроводность, коэффициент теплового расширения, коэффициенты диффузии, плотность.\n",
    "\n",
    "Так, температура плавления материала обычно уменьшается по сравнению с температурой плавленияв в макроскопическом состоянии в сязи с тем, что поверхностные атомы обычно более подвижны при более низкой температуре. В 1954 г. японский ученый Миэко Такаге методом дифракции электронов обнаружил эффект уменьшения температуры фазового перехода твердое тело-жидкость при уменьшении толщин пленок легкоплавких металлов (Pb, Sn и Bi) от 100 до 1 нм.\n",
    "\n",
    "Зависимость температуры плавления от размера объясняется тем, что атомы внутри наночастиц испытывают дополнительное поверхностное давление, которое изменяет их энергию Гиббса. Уравнение, связывающее температуру плавления с размером наночастиц:\n",
    "\n",
    "$$\n",
    "T_m(R) = T_m(\\infty)\\left(1 - \\frac{2 \\sigma_{sl}}{\\rho_{s}\\Delta H_{sl}R}\\right),\n",
    "$$\n",
    "\n",
    "где $T_m(\\infty)$ — температура плавления объемного материала, $\\sigma_{sl}$ — поверхностное натяжение между жидкой и твердой фазами, $\\Delta H_{sl}$ — удельная теплота плавления, $\\rho_{s}$ — плотность твердого вещества, $R$ — радиус частиц.\n",
    "\n",
    "Изменение температуры может составлять несколько сотен К. Понижение температуры тем больше, чем выше ее значение в недиспергированном состоянии и величина поверхностного натяжения. Следует заметить, что некоторые металлы с низкой температурой плавления после диспергирования уже при нормальных условиях будут находиться в жидком состоянии.\n",
    "\n",
    "** Пример **. Температура плавления золота в виде объемного образца составляет 1336 К, однако эта температура начинает заметно снижаться при размерах частиц меньше 20 нм и уменьшается более чем на 500 градусов для наночастиц диаметром 2 нм. Уменьшение температуры плавления ультрадисперсных частиц активно используется для повышения эффективности спекания керамических материалов."
   ]
  },
  {
   "cell_type": "markdown",
   "metadata": {},
   "source": [
    "### Оптические и электронные свойства\n",
    "\n",
    "Наиболее явно размерные эффекты проявляются в изменении оптических свойств наносистем. Так, даже незначительное изменение размера наночастиц приводит к заметному сдвигу полосы поглощения в оптических спектрах как полупроводниковых, так и металлических наноматериалов. При переходе от отдельных свободных атомов к макрокристаллическому твердому телу происходит расщепление энергетических уровней и формирование энергетических зон. С увеличением числа атомов до $N$ уровни формируют зоны, состоящие из $N$ подуровней. В отличие от объемных тел, в наночастицах число $N$ невелико. При уменьшении $N$ зазор между уровнями возрастает. Согласно данным РФЭС (рентгеновская фотоэлектронная спектроскопия), распределение плотности электронных состояний внутри наночастиц имеет промежуточный тип между зонным и дискретным.\n",
    "\n",
    "Размерные свойства наноматериалов, например в 1D-наноструктурах могут приводить к уменьшению фонон-электроннного взаимодействия и способствовать баллистическому транспорту носителей заряда. Другие интересные эффекты, связанные с распространениями носителей заряда в квантоворазмерных системах это эффекты кулоновской блокады и эффект Кондо, использующиеся для создания одноэлектронных устройств.\n",
    "\n",
    "Изменение оптических свойств металлических и полупроводниковых наночастиц, наностержней и пленок будет подробнее рассмотрены в следующих главах. Остановимся подробнее на одном параметре — диэлектрической постоянной. Известно, что диэлектрическая постоянная, определенная для таблеток, полученных путем прессования наночастиц PbTiO$_3$, достигает максимума при размерах исходных частиц  около 100 нм и понижается при уменьшении величины частиц, что связывают с влиянием границ зерен и пустот внутри гранул. "
   ]
  },
  {
   "cell_type": "markdown",
   "metadata": {},
   "source": [
    "### Магнитные свойства\n",
    "\n",
    "В отличие от оптических магнитные свойства наносистем определяются не только размерами частиц и их морфологией, но и характером взаимодействия как между частицами, так и между частицами и матрицей. У магнитных наноматериалов могут проявляться однодоменное состояние и суперпарамагнетизм. Для магнитных свойств размерный эффект проявляется в значительном понижении точки Кюри — температуры перехода от ферромагнитного состояния к парамагнитному. Для наночастиц железа, кобальта, никеля размером менее 10 нм точка Кюри находится на сотни градусов ниже, чем для макроскопических образцов.\n",
    "\n",
    "Магнитные размерные эффекты проявляются очень ярко у кластеров палладия. Макроскопические образцы Pd обладают парамагнетизмом и их магнитная восприимчивость почти не зависит от температуры. Магнитная восприимчивость гигантских кластеров палладия в несколько раз меньше, чем макроскопического металла, но они остаются парамагнитными. При значительном уменьшении размеров кластера (до десятков атомов палладия) они становятся диамагнитными. Размер дисперсных частиц влияет также на коэрцитивное поле. Коэрцитивное поле кластеров железа ($d$ < 4 нм) почти нулевое.\n",
    "\n",
    "Еще одно важное магнитное свойство высокодисперсных частиц — низкая магнитная анизотропия. В поликристаллических материала минимальная магнитная анизотропия ферромагнетиков достигается при размерах зерен 10-20 нм. Потери при перемагничивании таких наноматериалов малы."
   ]
  },
  {
   "cell_type": "markdown",
   "metadata": {},
   "source": [
    "### Механические свойства\n",
    "\n",
    "Механические свойства, а именно твердость, прочность, пластичность, модуль упругости, усталостные параметры материалов, определяются наличием различных дефектов, их концентрацией и распределением. Изменение механических свойств обусловлено, в первую очередь, особым распределением дефектом, отличных от объемного материала.\n",
    "\n",
    "Наличие неупругого участка на кривой <<напряжение–деформация>> обусловлено движением дислокаций, вызывающих пластическую деформацию, а общее снижение прочности — наличием микротрещин и межзеренных границ, т.е. появлением различных дефектов в материале. Однако при уменьшении элементов системы возможно создание такой ситуации, при которой образование дефекта в отдельно взятой частице стане крайне маловероятным. Кроме того, в нанокристаллах дефекты могут активно взаимодействовать с поверхностью, например вытесняться из объема частицы на ее поверхность.\n",
    "\n",
    "Гриффитсом в 1920 г. установлено увеличение прочности на разрыв при утончении волокон стекла. Так, для стеклянных волокон диаметром 2,5 мкм предел прочности на разрыв составляет 3~500 МПа, в то время как для обычного стекла $\\sim$100 МПа. \n",
    "\n",
    "акое изменение прочности в зависимости от диаметра стержня связано с тем, что при уменьшении толщины, дефекты структуры все легче выходят на поверхность. \n",
    "\n",
    "У~поликристаллических материалов в~большом диапазоне размеров зерен наблюдается увеличение твердости с~уменьшением размера кристаллитов, которое хорошо описывается соотношением Холла–Петча для предела текучести $\\sigma_T$:\n",
    "\n",
    "$$\n",
    "\\sigma_T = \\sigma_0 + \\frac{k}{\\sqrt{d}},\n",
    "$$\n",
    "\n",
    "где $\\sigma_0$ — внутреннее напряжение, препятствующее распространению пластического сдвига в теле зерна, $k$ — коэффициент пропорциональности,  $d$ — размер зерна. \n",
    "\n",
    "Из формулы видно, что при уменьшении размера зерна происходит рост прочности материала, обусловленное непосредственно взаимодействием дислокаций и межзеренных границ. Движение дислокаций затормаживается на границе из-за невозможности перехода в соседнее зерно в силу различной ориентации кристаллографических плоскостей и наличия межзеренной границы.  Соотношение Холла–Петча хорошо описывает механические свойства материалов с $d > 50 \\text{ нм}$, в которых деформации происходят преимуществено по дислокационному механизму. При дальнейшем уменьшении $d$ значительный вклад в деформацию материала вносят процессы, происходящие на межзеренных границах. При $d < 30 \\text{ нм}$ приведенное выражение перестает описывать реальную зависимость. При этих размерах зерен керамика может переходить из прочного состояния в~сверхпластичное, когда даже при небольшом нагреве и малых нагрузках можно деформировать (прессовать или вытягивать) материал без разрушения. Этот переход объясняется сменой механизма деформации — уже не происходит деформации зерен при нагрузке, а они начинают скользить вдоль межзеренных границ.\n",
    "\n",
    "Таким образом, можно получить керамику с наноразмерными зернами, прессованием или формованием задать форму детали, а потом отжигом увеличить размер зерен, придав материалу необходимые прочностные характеристики.\n",
    "\n",
    "Эту особенность нанокристаллических материалов называют обратным эффектом Холла--Петча. редложено обобщение закона Холла--Петча, позволяющее распространить закон на оба случая:\n",
    "\n",
    "$$\\label{common-Hall-Petch}\n",
    "\\sigma_T = \\sigma_0 + k\\sqrt{\\frac{1-P_{dis}}{d}},\n",
    "$$\n",
    "\n",
    "где $P_{dis}$ — вероятность поглощения дислокацией границей зерен ($P_{dis} = 0$ соответствует жестким границам в обычном законе Холла--Петча, $P_{dis} = 1$ — поглощению всех дислокаций границами зерен). Величина $P_{dis}$ растет при увеличении количества атомов, соседствующих с дислокациями, поэтому $P_{dis}$ увеличивается при уменьшении $d$.\n",
    "\n",
    "Зависимость немонотонна, и имеет максимум, лежащий для металлов обычно вблизи 10–30 нм, при одном и том же составе соответствующим наиболее прочным нанокристаллическим конструкционным материалам.\n",
    "\n",
    "### Структура межзеренных границ\n",
    "\n",
    "Консолидированные наноструктурированные материалы можно представить как систему, состоящую из упорядоченных областей — зерен, и назодящихся между ними межзеренных границ. При этом, если в зернах соблюдается одинаковое упорядочение атомов (различия заключаются в размере и форме зерна), то структура границ сильно отличается: на межзеренных границах плотность упаковки может быть на 20–40% меньше теоретической. Толщина межзеренной прослойки составляет обычно 0,5–2 нм. Ввиду разупорядочения атомов в межзеренном пространстве, их состояние называют *газоподобным*.\n",
    "\n",
    "### Дефекты в наноматериалах\n",
    "\n",
    "Для большинства металлов объем, приходящийся на одну вакансию > 5 нм$^3$, т.е. при меньших размерах частица не может содержать даже одной вакансии. Наличие атомов в междоузлиях еще менее вероятно, т.к. энергия образования такого дефекта еще больше. Еще большее влияние оказывает локальное изменение решетки вблизи дефекта — вакансия или междоузельный атом создают напряжение, убывающее пропорционально $1/r^3$. В наночастицах реализуется взаимодействие дефектов с поверхностью раздела. При отсутствии внешних напряжений точечные дефекты вытесняются на поверхность, а при наличии неупругой матрицы — смещаются в центр.\n",
    "\n",
    "Доминирующим механизмом пластической деформации в кристаллах является движение дислокаций. При перемещении дислокаций возможно их размножение, например на источниках Франка–Рида (Рис. ?). Если размеры петли Франка–Рида превосходит размер частиц, размножение дислокаций по этому механизму не происходит."
   ]
  },
  {
   "cell_type": "markdown",
   "metadata": {},
   "source": [
    "# Контрольные вопросы\n",
    "1. Назовите примеры раннего синтеза наноматериалов до появления науки о материалах."
   ]
  },
  {
   "cell_type": "markdown",
   "metadata": {},
   "source": [
    "# Упражнения и задачи"
   ]
  },
  {
   "cell_type": "markdown",
   "metadata": {},
   "source": [
    "# Литература <a name=\"References\"></a>\n",
    "- Оствальд В. Мир обойденных величин. Введение в современную коллоидную химию с обзором ее приложений\n",
    "- Макаров Г. Н. Применение лазеров в нанотехнологии: получение наночастиц и наноструктур методами лазерной абляции и лазерной нанолитографии //Успехи физических наук. – 2013. – Т. 183. – №. 7. – С. 673-718.\n",
    "- Марков В. Ф., Маскаева Л. Н. Основы коллоидной химии: учеб. пособие //Екатеринбург: Изд-во УрФУ. – 2011."
   ]
  },
  {
   "cell_type": "code",
   "execution_count": null,
   "metadata": {},
   "outputs": [],
   "source": []
  }
 ],
 "metadata": {
  "kernelspec": {
   "display_name": "Python 3",
   "language": "python",
   "name": "python3"
  },
  "language_info": {
   "codemirror_mode": {
    "name": "ipython",
    "version": 3
   },
   "file_extension": ".py",
   "mimetype": "text/x-python",
   "name": "python",
   "nbconvert_exporter": "python",
   "pygments_lexer": "ipython3",
   "version": "3.5.2"
  }
 },
 "nbformat": 4,
 "nbformat_minor": 2
}
