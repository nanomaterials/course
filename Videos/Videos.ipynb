{
 "cells": [
  {
   "cell_type": "markdown",
   "metadata": {},
   "source": [
    "\n",
    "# Видеотека\n",
    "\n",
    "Данный файл содержит подборку из всех видеофрагментов,\n",
    "представленных в различных частях курса \"Наноматериалы\".\n",
    "\n",
    "Приведенные видеофрагменты не являются обязательными\n",
    "к просмотру, но позволяют увидеть рассматриваемые проблемы\n",
    "с позиций других исследователей. Некоторые видеоролики\n",
    "полезны как примеры лабораторных практик по синтезу\n",
    "и диагностике различных форм наноматериалов.\n"
   ]
  },
  {
   "cell_type": "code",
   "execution_count": null,
   "metadata": {},
   "outputs": [],
   "source": [
    "from IPython.lib.display import YouTubeVideo"
   ]
  },
  {
   "cell_type": "markdown",
   "metadata": {},
   "source": [
    "# 1. [Размерные эффекты и корреляционные радиусы физических явлений](../01_-_Nanoscale/Lecture.ipynb)"
   ]
  },
  {
   "cell_type": "markdown",
   "metadata": {},
   "source": [
    "Видеоиллюстрация изменения \"цвета\" кубка Ликурга на экспозиции в Британском музее. "
   ]
  },
  {
   "cell_type": "code",
   "execution_count": null,
   "metadata": {},
   "outputs": [],
   "source": [
    "YouTubeVideo(\"aTL8Gx6TlCs\")"
   ]
  },
  {
   "cell_type": "markdown",
   "metadata": {},
   "source": [
    "Самое маленькое кино в мире: Мальчик и его атом. "
   ]
  },
  {
   "cell_type": "code",
   "execution_count": null,
   "metadata": {},
   "outputs": [],
   "source": [
    "YouTubeVideo(\"oSCX78-8-q0\")"
   ]
  },
  {
   "cell_type": "markdown",
   "metadata": {},
   "source": [
    "Примеры наноматериалов в природе и \"древности\": цеолиты,  магниточувствительные бактерии, броня моллюсков, лапы гекконов. "
   ]
  },
  {
   "cell_type": "code",
   "execution_count": null,
   "metadata": {},
   "outputs": [],
   "source": [
    "YouTubeVideo(\"0eo5AUDCFzQ\")"
   ]
  },
  {
   "cell_type": "markdown",
   "metadata": {},
   "source": [
    "Артем Оганов рассматривает примеры 2D, 1D-, 0D-наноматериалы и причины возникновения у них новых необычных физических свойств, отличие поверхности от объема, поверхностные структуры, гетерогенный химический катализ, эффекты на межфазных границах, неорганические и органические полимеры, кластеры и наночастицы.  "
   ]
  },
  {
   "cell_type": "code",
   "execution_count": null,
   "metadata": {},
   "outputs": [],
   "source": [
    "YouTubeVideo(\"kUMP_xa9HHc')   # 14:\")"
   ]
  },
  {
   "cell_type": "markdown",
   "metadata": {},
   "source": [
    "Научно-популярная телепередача о получении и использовании беспористых тонкопленочных покрытий, свойствах наночастиц, применениях наночастиц в медицине, проблеме транспорта и накопления наночастиц, композиционных наноматериалах для авиации и космоса, лазерно-плазменных методах синтеза."
   ]
  },
  {
   "cell_type": "code",
   "execution_count": null,
   "metadata": {},
   "outputs": [],
   "source": [
    "YouTubeVideo(\"GhvpcJqSKTU\")"
   ]
  },
  {
   "cell_type": "markdown",
   "metadata": {},
   "source": [
    "# 2. [Электронное строение низкоразмерных структур](../02_-_From_atoms_to_nanomaterials/Lecture_and_lab.ipynb)"
   ]
  },
  {
   "cell_type": "markdown",
   "metadata": {},
   "source": [
    "В этом видео дается пример простого рассмотрения молекулы водорода. "
   ]
  },
  {
   "cell_type": "code",
   "execution_count": null,
   "metadata": {},
   "outputs": [],
   "source": [
    "YouTubeVideo(\"4vrjwkNFqVg\")"
   ]
  },
  {
   "cell_type": "markdown",
   "metadata": {},
   "source": [
    "Телепередача о свойствах газообразного и жидкого кислорода, синглетного кислорода и озона"
   ]
  },
  {
   "cell_type": "code",
   "execution_count": null,
   "metadata": {},
   "outputs": [],
   "source": [
    "YouTubeVideo(\"vuSplAoifE0\")"
   ]
  },
  {
   "cell_type": "markdown",
   "metadata": {},
   "source": [
    "Химия благородных газов."
   ]
  },
  {
   "cell_type": "code",
   "execution_count": null,
   "metadata": {},
   "outputs": [],
   "source": [
    "YouTubeVideo(\"84qTPlAraA4\")"
   ]
  },
  {
   "cell_type": "markdown",
   "metadata": {},
   "source": [
    "Квантовая механика и химическая связь: история развития вопроса. "
   ]
  },
  {
   "cell_type": "code",
   "execution_count": null,
   "metadata": {},
   "outputs": [],
   "source": [
    "YouTubeVideo(\"KAA9eTQVQgU\")"
   ]
  },
  {
   "cell_type": "markdown",
   "metadata": {},
   "source": [
    "Применение теории молекулярных орбиталей для определения электронного строения бутадиена. "
   ]
  },
  {
   "cell_type": "code",
   "execution_count": null,
   "metadata": {},
   "outputs": [],
   "source": [
    "YouTubeVideo(\"xb6V_VUAGGQ\")"
   ]
  },
  {
   "cell_type": "markdown",
   "metadata": {},
   "source": [
    "Ароматические соединения, сопряженные системы пи-электронов и правило Хюккеля (4n+2). "
   ]
  },
  {
   "cell_type": "code",
   "execution_count": null,
   "metadata": {},
   "outputs": [],
   "source": [
    "YouTubeVideo(\"hLHl8M9UYoA\")"
   ]
  },
  {
   "cell_type": "markdown",
   "metadata": {},
   "source": [
    "Рассказ о свойствах однослойных углеродных нанотрубок."
   ]
  },
  {
   "cell_type": "code",
   "execution_count": null,
   "metadata": {},
   "outputs": [],
   "source": [
    "YouTubeVideo(\"Sb1_GxY1L2Q\")"
   ]
  },
  {
   "cell_type": "markdown",
   "metadata": {},
   "source": [
    "На этом занятии мы моделируем электронные свойства углеродных нанотрубок. В данном видео рассказывается о моделировании механических свойств и трибологии углеродных нанотрубок. "
   ]
  },
  {
   "cell_type": "code",
   "execution_count": null,
   "metadata": {},
   "outputs": [],
   "source": [
    "YouTubeVideo(\"-8TfX_Sc75E\")"
   ]
  },
  {
   "cell_type": "markdown",
   "metadata": {},
   "source": [
    "# 3. [Кластеры](../03_-_Clusters/Lecture.ipynb)"
   ]
  },
  {
   "cell_type": "markdown",
   "metadata": {},
   "source": [
    "# 4. [Металлические наночастицы](../04_-_Metal_NPs/Metal_NPs_Lecture.ipynb)"
   ]
  },
  {
   "cell_type": "markdown",
   "metadata": {},
   "source": [
    "Пример цитратного коллоидного синтеза наночастиц золота. "
   ]
  },
  {
   "cell_type": "code",
   "execution_count": null,
   "metadata": {},
   "outputs": [],
   "source": [
    "YouTubeVideo(\"urmi99jQSZY\")"
   ]
  },
  {
   "cell_type": "markdown",
   "metadata": {},
   "source": [
    "Пример боргидридного коллоидного синтеза наночастиц серебра. "
   ]
  },
  {
   "cell_type": "code",
   "execution_count": null,
   "metadata": {},
   "outputs": [],
   "source": [
    "YouTubeVideo(\"L-GwpAJ9MJ0\")"
   ]
  },
  {
   "cell_type": "markdown",
   "metadata": {},
   "source": [
    "Иллюстрация процесса лазерной абляции на примере золота, серебра, титана, цинка и других металлов. "
   ]
  },
  {
   "cell_type": "code",
   "execution_count": null,
   "metadata": {},
   "outputs": [],
   "source": [
    "YouTubeVideo(\"kOy0yuWpUzU\")"
   ]
  },
  {
   "cell_type": "markdown",
   "metadata": {},
   "source": [
    "Плазмонные наноструктуры. "
   ]
  },
  {
   "cell_type": "code",
   "execution_count": null,
   "metadata": {},
   "outputs": [],
   "source": [
    "YouTubeVideo(\"YN19Z_IFVwY\")"
   ]
  },
  {
   "cell_type": "markdown",
   "metadata": {},
   "source": [
    "Нанофотоника. Проблема больших данных и мощностей. Переход от электронике к фотонике, электро и магнитооптике, плазмонных кристаллов, создания миниатюрных источников света — спазеров (SPASER). "
   ]
  },
  {
   "cell_type": "code",
   "execution_count": null,
   "metadata": {},
   "outputs": [],
   "source": [
    "YouTubeVideo(\"r7T1nCG8QSU\")"
   ]
  },
  {
   "cell_type": "markdown",
   "metadata": {},
   "source": [
    "Диалоги \"Управление светом с помощью плазмонов\" (Часть 1). "
   ]
  },
  {
   "cell_type": "code",
   "execution_count": null,
   "metadata": {},
   "outputs": [],
   "source": [
    "YouTubeVideo(\"Hdmhcud2RqE\")"
   ]
  },
  {
   "cell_type": "markdown",
   "metadata": {},
   "source": [
    "Диалоги \"Управление светом с помощью плазмонов\" (Часть 2). "
   ]
  },
  {
   "cell_type": "code",
   "execution_count": null,
   "metadata": {},
   "outputs": [],
   "source": [
    "YouTubeVideo(\"PQkQpFU9xL4\")"
   ]
  },
  {
   "cell_type": "markdown",
   "metadata": {},
   "source": [
    "Управление светом на наномасштабе - Василий Климов "
   ]
  },
  {
   "cell_type": "code",
   "execution_count": null,
   "metadata": {},
   "outputs": [],
   "source": [
    "YouTubeVideo(\"mPUzIiaxtOs\")"
   ]
  },
  {
   "cell_type": "markdown",
   "metadata": {},
   "source": [
    "Доктор химических наук Андрей Владимирович Шевельков в своем рассказе дает определение интерметаллидов, объясняет их отличие от простых металлов и сплавов, особенности химической связи в интерметаллидах, примеры латуни и бронзы, семейства интерметаллидов. Также описываются приложения: в качестве сверхпроводников, сплавы с формой памяти (на самом деле интерметаллические соединения), термоэлектрические преобразователи на RuGa2, FeGa3. "
   ]
  },
  {
   "cell_type": "code",
   "execution_count": null,
   "metadata": {},
   "outputs": [],
   "source": [
    "YouTubeVideo(\"141wNmgnp7I\")"
   ]
  },
  {
   "cell_type": "markdown",
   "metadata": {},
   "source": [
    "# 5. [Нанокристаллы полупроводниковых материалов](../05_-_Semiconductor_NPs/Lecture.ipynb)"
   ]
  },
  {
   "cell_type": "markdown",
   "metadata": {},
   "source": [
    "Советский фильм о механизмах люминесценции люминофоров различного химического строения, КПД различных источников излучения, применении люминесценции (легче смотрится на скорости 1.5)"
   ]
  },
  {
   "cell_type": "code",
   "execution_count": null,
   "metadata": {},
   "outputs": [],
   "source": [
    "YouTubeVideo(\"WmsqUVizqhk') # 9:\")"
   ]
  },
  {
   "cell_type": "markdown",
   "metadata": {},
   "source": [
    "Квантовые точки: размеры, одноэлектронный транзистор. "
   ]
  },
  {
   "cell_type": "code",
   "execution_count": null,
   "metadata": {},
   "outputs": [],
   "source": [
    "YouTubeVideo(\"XkZvKJ3XmZQ\")"
   ]
  },
  {
   "cell_type": "markdown",
   "metadata": {},
   "source": [
    "Рассказ об экситонах, поляритонах и квантовых компьютерах "
   ]
  },
  {
   "cell_type": "code",
   "execution_count": null,
   "metadata": {},
   "outputs": [],
   "source": [
    "YouTubeVideo(\"gNE7-Tw7pzE\")"
   ]
  },
  {
   "cell_type": "markdown",
   "metadata": {},
   "source": [
    "Пример синтеза квантовых точек CdSe с использованием триоктилфосфина и триоктилфосфин оксида. "
   ]
  },
  {
   "cell_type": "code",
   "execution_count": null,
   "metadata": {},
   "outputs": [],
   "source": [
    "YouTubeVideo(\"6oDHZtxTEoo\")"
   ]
  },
  {
   "cell_type": "markdown",
   "metadata": {},
   "source": [
    "Полная процедура синтеза квантовых точек PbS. "
   ]
  },
  {
   "cell_type": "code",
   "execution_count": null,
   "metadata": {},
   "outputs": [],
   "source": [
    "YouTubeVideo(\"1Tco4dS2idw\")"
   ]
  },
  {
   "cell_type": "markdown",
   "metadata": {},
   "source": [
    "Применение квантовых точек в дисплеях (видео 2014 года, такие дисплеи уже производятся). "
   ]
  },
  {
   "cell_type": "code",
   "execution_count": null,
   "metadata": {},
   "outputs": [],
   "source": [
    "YouTubeVideo(\"HLAJnNKgRd8\")"
   ]
  },
  {
   "cell_type": "markdown",
   "metadata": {},
   "source": [
    "Мини-лекция Р.Б.Васильева по коллоидному синтезу квантовых точек. "
   ]
  },
  {
   "cell_type": "code",
   "execution_count": null,
   "metadata": {},
   "outputs": [],
   "source": [
    "YouTubeVideo(\"RWyDF3nVYos\")"
   ]
  },
  {
   "cell_type": "markdown",
   "metadata": {},
   "source": [
    "# 6. [Наночастицы широкозонных полупроводников и диэлектриков](../06_-_Widegap_NPs/Lecture.ipynb)"
   ]
  },
  {
   "cell_type": "markdown",
   "metadata": {},
   "source": [
    "Пример автогорения геля. "
   ]
  },
  {
   "cell_type": "code",
   "execution_count": null,
   "metadata": {},
   "outputs": [],
   "source": [
    "YouTubeVideo(\"OFEbiMxKa_8\")"
   ]
  },
  {
   "cell_type": "markdown",
   "metadata": {},
   "source": [
    "Наноалмазы: об Арзамасе-16, детонационный синтез алмазов, применение в медицине и однофотонных источниках. "
   ]
  },
  {
   "cell_type": "code",
   "execution_count": null,
   "metadata": {},
   "outputs": [],
   "source": [
    "YouTubeVideo(\"GtaQk2om2ro\")"
   ]
  },
  {
   "cell_type": "markdown",
   "metadata": {},
   "source": [
    "Фотокатализаторы."
   ]
  },
  {
   "cell_type": "code",
   "execution_count": null,
   "metadata": {},
   "outputs": [],
   "source": [
    "YouTubeVideo(\"mylxBckJs0g\")"
   ]
  },
  {
   "cell_type": "markdown",
   "metadata": {},
   "source": [
    "Необычная химия наночастиц и рак легких: о поверхности наночастиц диоксида кремния, силикозе и причинах канцерогенности наночастиц"
   ]
  },
  {
   "cell_type": "code",
   "execution_count": null,
   "metadata": {},
   "outputs": [],
   "source": [
    "YouTubeVideo(\"8tDIscuI2kY\")"
   ]
  },
  {
   "cell_type": "markdown",
   "metadata": {},
   "source": [
    "Магнитные наночастицы: применение в медицине."
   ]
  },
  {
   "cell_type": "code",
   "execution_count": null,
   "metadata": {},
   "outputs": [],
   "source": [
    "YouTubeVideo(\"iOKDLne5gqo\")"
   ]
  },
  {
   "cell_type": "markdown",
   "metadata": {},
   "source": [
    "Низкоразмерный магнетизм."
   ]
  },
  {
   "cell_type": "code",
   "execution_count": null,
   "metadata": {},
   "outputs": [],
   "source": [
    "YouTubeVideo(\"LIJFfsZbCYU\")"
   ]
  },
  {
   "cell_type": "markdown",
   "metadata": {},
   "source": [
    "Гигантское магнетосопротивление. "
   ]
  },
  {
   "cell_type": "code",
   "execution_count": null,
   "metadata": {},
   "outputs": [],
   "source": [
    "YouTubeVideo(\"PLD0DdTtUcw\")"
   ]
  },
  {
   "cell_type": "markdown",
   "metadata": {},
   "source": [
    "Наноалмазы: история Вселенной и применение в квантовой оптике. "
   ]
  },
  {
   "cell_type": "code",
   "execution_count": null,
   "metadata": {},
   "outputs": [],
   "source": [
    "YouTubeVideo(\"Lefp-sW4D-M\")"
   ]
  },
  {
   "cell_type": "markdown",
   "metadata": {},
   "source": [
    "Нанофотоника в алмазах: азотные, кремниевые и германиевые центры окраски в объемных алмазах и наноалмазах. "
   ]
  },
  {
   "cell_type": "code",
   "execution_count": null,
   "metadata": {},
   "outputs": [],
   "source": [
    "YouTubeVideo(\"3SbGBQ30KBs\")"
   ]
  },
  {
   "cell_type": "markdown",
   "metadata": {},
   "source": [
    "Телепередача о свойствах различных стекол. Получение стекла из песка. Влияние примесей на цвет стекла. Промышленная резка стекла. Важность ровной кромки для механической прочности. Получение и особенности закаленного и многослойного стекол. Взрыв закаленного стекла. Стандартные тесты прочности стекла."
   ]
  },
  {
   "cell_type": "code",
   "execution_count": null,
   "metadata": {},
   "outputs": [],
   "source": [
    "YouTubeVideo(\"l_T9gXYVhi0\")"
   ]
  },
  {
   "cell_type": "markdown",
   "metadata": {},
   "source": [
    "Телепередача с российского предприятия по росту макроскопических пьезокристаллов лангасита La3Ga5SiO14 и сцинциляционных кристаллов молибдата кальция."
   ]
  },
  {
   "cell_type": "code",
   "execution_count": null,
   "metadata": {},
   "outputs": [],
   "source": [
    "YouTubeVideo(\"XHaFPN-qu1Q\")"
   ]
  },
  {
   "cell_type": "markdown",
   "metadata": {},
   "source": [
    "В этом видео 1981 года описываются химические свойства и применение f-элементов: лантаноидов и актиноидов"
   ]
  },
  {
   "cell_type": "code",
   "execution_count": null,
   "metadata": {},
   "outputs": [],
   "source": [
    "YouTubeVideo(\"V9Ht1_nWIew\")"
   ]
  },
  {
   "cell_type": "markdown",
   "metadata": {},
   "source": [
    "Видеорассказ 2018 г. о современном предприятии в Новосибирске по изготовлению наноструктурированной керамики для различных областей применения: протезирования суставов, бронежилетов и керамических подложек для электроники. Подробно описан технический процесс и методы диагностики конечных продуктов. "
   ]
  },
  {
   "cell_type": "code",
   "execution_count": null,
   "metadata": {},
   "outputs": [],
   "source": [
    "YouTubeVideo(\"6_TqTdSbOpA\")"
   ]
  },
  {
   "cell_type": "markdown",
   "metadata": {},
   "source": [
    "Видеорассказ 2018 г. о современном российском предприятии по производству литий-ионных аккумуляторов с использованием наночастиц  феррофосфата лития LiFePO4. "
   ]
  },
  {
   "cell_type": "code",
   "execution_count": null,
   "metadata": {},
   "outputs": [],
   "source": [
    "YouTubeVideo(\"3SuZpxiVy8w\")"
   ]
  },
  {
   "cell_type": "markdown",
   "metadata": {},
   "source": [
    "# 7. [Общие свойства наночастиц различной природы](../07_-_Properties_of_NPs/Lecture.ipynb)"
   ]
  },
  {
   "cell_type": "markdown",
   "metadata": {},
   "source": [
    "На видео ниже представлена иллюстрация броуновского движения. Наблюдаемые вспышки - рассеиваемое наночастицами лазерное излучение."
   ]
  },
  {
   "cell_type": "code",
   "execution_count": null,
   "metadata": {},
   "outputs": [],
   "source": [
    "YouTubeVideo(\"cDcprgWiQEY\")"
   ]
  },
  {
   "cell_type": "markdown",
   "metadata": {},
   "source": [
    "Немой фильм 1937 г. о Броуновском движении"
   ]
  },
  {
   "cell_type": "code",
   "execution_count": null,
   "metadata": {},
   "outputs": [],
   "source": [
    "YouTubeVideo(\"7YhAnYiIwSE\")"
   ]
  },
  {
   "cell_type": "markdown",
   "metadata": {},
   "source": [
    "Метод очистки газа от малых частиц в присутствии электрического поля"
   ]
  },
  {
   "cell_type": "code",
   "execution_count": null,
   "metadata": {},
   "outputs": [],
   "source": [
    "YouTubeVideo(\"7YhAnYiIwSE\")"
   ]
  },
  {
   "cell_type": "markdown",
   "metadata": {},
   "source": [
    "Дисперсия и рассеяние света"
   ]
  },
  {
   "cell_type": "code",
   "execution_count": null,
   "metadata": {},
   "outputs": [],
   "source": [
    "YouTubeVideo(\"gW6sMiM3ZDc\")"
   ]
  },
  {
   "cell_type": "markdown",
   "metadata": {},
   "source": [
    "**У этого видео пока нет описания.**"
   ]
  },
  {
   "cell_type": "code",
   "execution_count": null,
   "metadata": {},
   "outputs": [],
   "source": [
    "YouTubeVideo(\"FvSgyZBZr5s\")"
   ]
  },
  {
   "cell_type": "markdown",
   "metadata": {},
   "source": [
    "# 8. [Нанопроволоки и наностержни](../08_-_1D_Structures/Lecture.ipynb)"
   ]
  },
  {
   "cell_type": "markdown",
   "metadata": {},
   "source": [
    "Рассказ о необычных свойствах нанопроволок антимонида индия InSb, квантовании проводимости, введении примесей в нанопроволоки, туннельной проводимости. Далее описываются технологии, связанные с созданием электронных структур, атомном манипулировании, одноатомных электронных устройствахб в частности одноэлектронного транзистора.  "
   ]
  },
  {
   "cell_type": "code",
   "execution_count": null,
   "metadata": {},
   "outputs": [],
   "source": [
    "YouTubeVideo(\"sL3DD24bx2k\")"
   ]
  },
  {
   "cell_type": "markdown",
   "metadata": {},
   "source": [
    "Кандидат физико-математических наук Дмитрий Гольдберг рассказывает о нанотрубках из углерода и нитрида бора. "
   ]
  },
  {
   "cell_type": "code",
   "execution_count": null,
   "metadata": {},
   "outputs": [],
   "source": [
    "YouTubeVideo(\"vPOaam_nLVQ\")"
   ]
  },
  {
   "cell_type": "markdown",
   "metadata": {},
   "source": [
    "Продолжение рассказа Дмитрия Гольдберга посвящено современным методам микроскопического анализа наноструктурированных материалов. "
   ]
  },
  {
   "cell_type": "code",
   "execution_count": null,
   "metadata": {},
   "outputs": [],
   "source": [
    "YouTubeVideo(\"8P06xoFhk7A\")"
   ]
  },
  {
   "cell_type": "markdown",
   "metadata": {},
   "source": [
    "# 9. [Тонкие пленки и покрытия](../09_-_2D_Nanomaterials/01_Thin_films.ipynb)"
   ]
  },
  {
   "cell_type": "markdown",
   "metadata": {},
   "source": [
    "Доктор физико-математических наук Василий Васильевич Климов рассказывает о метаповерхностях, проблеме габаритов оптических линз и других оптических систем, эффекте оптической невзаимности. "
   ]
  },
  {
   "cell_type": "code",
   "execution_count": null,
   "metadata": {},
   "outputs": [],
   "source": [
    "YouTubeVideo(\"fwoP9789JWM\")"
   ]
  },
  {
   "cell_type": "markdown",
   "metadata": {},
   "source": [
    "Технологический комплекс Нанофаб, включающий установку молекулярно лучевой эпитаксии. "
   ]
  },
  {
   "cell_type": "code",
   "execution_count": null,
   "metadata": {},
   "outputs": [],
   "source": [
    "YouTubeVideo(\"augGJyigjKE\")"
   ]
  },
  {
   "cell_type": "markdown",
   "metadata": {},
   "source": [
    "Фильм 1981 г. об адсорбции"
   ]
  },
  {
   "cell_type": "code",
   "execution_count": null,
   "metadata": {},
   "outputs": [],
   "source": [
    "YouTubeVideo(\"_022vLt-70o\")"
   ]
  },
  {
   "cell_type": "markdown",
   "metadata": {},
   "source": [
    "В этом коротком видео на английском языке демонстрируется, что максены могут использоваться в качестве эффективных проводящих материалов. "
   ]
  },
  {
   "cell_type": "code",
   "execution_count": null,
   "metadata": {},
   "outputs": [],
   "source": [
    "YouTubeVideo(\"Ys6qz0T-hmA\")"
   ]
  },
  {
   "cell_type": "markdown",
   "metadata": {},
   "source": [
    "# 10. [Многослойные структуры, сверхрешетки и фотонные кристаллы](../09_-_2D_Nanomaterials/02_Periodic_structures.ipynb)"
   ]
  },
  {
   "cell_type": "markdown",
   "metadata": {},
   "source": [
    "Доктор физико-математических наук Виктор  Георгиевич Веселаго рассказывает о материалах с отрицательным показателем преломления. "
   ]
  },
  {
   "cell_type": "code",
   "execution_count": null,
   "metadata": {},
   "outputs": [],
   "source": [
    "YouTubeVideo(\"FcNBI5gn2rc\")"
   ]
  },
  {
   "cell_type": "markdown",
   "metadata": {},
   "source": [
    "Доктор физико-математических наук Сергей Аполлонович Никитов рассказывает о фотонных кристаллах, аналогии с периодической структурой кристалла, особенностях распространения электромагнитных волн в фотонных кристаллах, состояниях в запрещенной зоне фотонного кристалла, фононных, магнонных кристаллах распространение света в метаматериалах. "
   ]
  },
  {
   "cell_type": "code",
   "execution_count": null,
   "metadata": {},
   "outputs": [],
   "source": [
    "YouTubeVideo(\"ufppOGpi2gM\")"
   ]
  },
  {
   "cell_type": "markdown",
   "metadata": {},
   "source": [
    "Наноматериалы с отрицательным коэффициентом преломления: линза из фотонных кристаллов, проблема оптических компьютеров. Вместо \"рефракционный индекс\" слышать \"показатель преломления\". "
   ]
  },
  {
   "cell_type": "code",
   "execution_count": null,
   "metadata": {},
   "outputs": [],
   "source": [
    "YouTubeVideo(\"a8D2PkkV940\")"
   ]
  },
  {
   "cell_type": "markdown",
   "metadata": {},
   "source": [
    "Современные методы управления светом: оптоволокно, фотонные кристаллы, метаматериалы. "
   ]
  },
  {
   "cell_type": "code",
   "execution_count": null,
   "metadata": {},
   "outputs": [],
   "source": [
    "YouTubeVideo(\"c1F1EydJd-M\")"
   ]
  },
  {
   "cell_type": "markdown",
   "metadata": {},
   "source": [
    "В данном видео покан процесс синтеза трехмерных фотонных кристаллов по технологии матриц обратных опалов "
   ]
  },
  {
   "cell_type": "code",
   "execution_count": null,
   "metadata": {},
   "outputs": [],
   "source": [
    "YouTubeVideo(\"VT77S8dSbFA\")"
   ]
  },
  {
   "cell_type": "markdown",
   "metadata": {},
   "source": [
    "# 11. [Консолидированные наноматериалы и нанокомпозиты](../10_-_3D_Nanomaterials/Nanocomposites.ipynb)"
   ]
  },
  {
   "cell_type": "markdown",
   "metadata": {},
   "source": [
    "Рассказ об истоирии открытия и исследовании квазикристаллов"
   ]
  },
  {
   "cell_type": "code",
   "execution_count": null,
   "metadata": {},
   "outputs": [],
   "source": [
    "YouTubeVideo(\"w3b-3fTMgr4\")"
   ]
  },
  {
   "cell_type": "markdown",
   "metadata": {},
   "source": [
    "Реакция интеркалирования"
   ]
  },
  {
   "cell_type": "code",
   "execution_count": null,
   "metadata": {},
   "outputs": [],
   "source": [
    "YouTubeVideo(\"hBAHl4gnQpU\")"
   ]
  },
  {
   "cell_type": "markdown",
   "metadata": {},
   "source": [
    "Кристаллическое строение макроскопических металлов и сплавов"
   ]
  },
  {
   "cell_type": "code",
   "execution_count": null,
   "metadata": {},
   "outputs": [],
   "source": [
    "YouTubeVideo(\"rqOHFmAAvKo\")"
   ]
  },
  {
   "cell_type": "markdown",
   "metadata": {},
   "source": [
    "Видео 1982 г. о механике разрушения материалов: влияние трещин, местные напряжения, метод фотоупругости, эпюры напряжений, датчики раскрытия трещины, растяжение образца, критическая нагрузка, критические номинальные напряжения, постояннство коэффициента интенсивности, скорость распространения трещин, расчет материала на прочность, запас прочности определение разрушающих напряжений, проверка прочности, допускаемый размер трещины, допускаемые напряжения. Влияние циклических нагрузок. Методы борьбы с механическими причинами разрушения\"  Есть пропуски звука."
   ]
  },
  {
   "cell_type": "code",
   "execution_count": null,
   "metadata": {},
   "outputs": [],
   "source": [
    "YouTubeVideo(\"xrmDF4jukcA') # 20 ми\")"
   ]
  },
  {
   "cell_type": "markdown",
   "metadata": {},
   "source": [
    "Композиты с использованием BN-нанотрубок: свойства нитрида бора, механические свойства, преимущества в составе полимерных композитов, проблемы когезии и диспергирования. "
   ]
  },
  {
   "cell_type": "code",
   "execution_count": null,
   "metadata": {},
   "outputs": [],
   "source": [
    "YouTubeVideo(\"754Pow_t_qg\")"
   ]
  },
  {
   "cell_type": "markdown",
   "metadata": {},
   "source": [
    "# 12. [Самоорганизация и самосборка](../10_-_3D_Nanomaterials/Self-organization.ipynb)"
   ]
  },
  {
   "cell_type": "markdown",
   "metadata": {},
   "source": [
    "Диссипативные структуры в нелинейных средах (1987)"
   ]
  },
  {
   "cell_type": "code",
   "execution_count": null,
   "metadata": {},
   "outputs": [],
   "source": [
    "YouTubeVideo(\"Oka46N3hBuw\")"
   ]
  }
 ],
 "metadata": {},
 "nbformat": 4,
 "nbformat_minor": 2
}
