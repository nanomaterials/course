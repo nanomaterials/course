{
 "cells": [
  {
   "cell_type": "markdown",
   "metadata": {},
   "source": [
    "# Металлические наночастицы"
   ]
  },
  {
   "cell_type": "markdown",
   "metadata": {},
   "source": [
    "# Конспект лекции\n",
    "## Оптические свойства металлических наночастиц\n",
    "\n",
    "В электронных спектрах поглощения металлических наночастиц доминируют полосы поглощения поверхностных плазмонов...\n",
    "\n",
    "Электрическое поле падающей световой волны индуцирует поляризацию свободных электронов. Это соответствует дипольному возбуждению моды, наиболее ответственной за поглощение и рассеяние для частиц, размеры которых намного меньше длины волны падающего света. Однако возбуждения более высоких порядков также возможны и начинают играть роль в случае нанокристаллов, размеры которых составлют несколько десятков нм.\n",
    "\n",
    "При условии $\\lambda \\gg r$ можно считать, что электромагнитное поле постоянно вблизи частицы. При воздействии внешнего поля на частицу электроны проводимости смещаются к границе частицы в направлении, противоположном направлению поля. В следствие того, что электроны пространственно ограничены, отрицательный заряд будет накапливаться на одной стороне частицы, а положительный --- на другой, создавая таким образом электрический диполь, поле которого будет направлено противоположно внешнему полю. Данное поле будет вынуждать электроны вернуться в исходное положение, в результате чего будут происходит колебания электронов.\n",
    "\n",
    "При колебаниях электроны рассеиваются на границах частицы и на ионах решетки, из-за чего теряют свою энергию. Чтобы восполнить эту энергию, электроны поглощают энергию внешнего поля. Плазмонный резонанс сопровождается резонансным поглощением, которое можно зафиксировать, измеряя спектр оптической плотности.\n",
    "\n",
    "ЛПР описывается поперечным сечением экстинкции $C_\\text{ext}$, которое для металлической частицы сферической формы имеет вид:\n",
    "\n",
    "$$\n",
    "C_\\text{ext} = \\frac{24\\pi^2 r^3 \\varepsilon_\\text{m}^{3/2}}{\\lambda} \\frac{\\varepsilon_\\text{i}}{(\\varepsilon_\\text{r} + 2\\varepsilon_\\text{m})^2 + \\varepsilon_\\text{i}^2}\n",
    "$$\n",
    "\n",
    "где $\\varepsilon_\\text{m}$ — относительная диэлектрическая проницаемость среды, $\\varepsilon_\\text{r}$ — действительная часть диэлектрической проницаемости металла, $\\varepsilon_\\text{i}$ — мнимая часть диэлектрической проницаемости металла.\n",
    "\n",
    "Резонансное увеличение сечения экстинкции наблюдается при следующем условии:\n",
    "\n",
    "$$\n",
    "\\varepsilon_\\text{r} = -2\\varepsilon_\\text{m}\n",
    "$$"
   ]
  },
  {
   "cell_type": "markdown",
   "metadata": {},
   "source": [
    "# Физические методы синтеза металлических наночастиц\n",
    "\n",
    "- **Конденсация в инертном газе**. Металлическая фольграф или иной источник металла нагреваются в керамическом тигле, находящемся в камере, наполненной инертным газом (обычно аргоном) при давлении несколько торр. Металлический пар быстро охлаждается, теряя энергию в столкновениях с атоами аргона, при этом формируются наночастицы. Таким способом получаются, например, наночастицы Fe, Fe2O3.\n",
    "- **Метод дугового разряда**. Для испарения материала используется дуга между металлическими электродами в присутствии инертного газа, в результате чего формируется плазма, при остывании которой образуются наночастицы металла. Так были получены наночастицы Ni.\n",
    "- **Лазерный пиролиз**. Газообразный прекурсор смешивается с инертным газом и нагревается непрерывным или импульсным инфракрасным CO2-лазером. Энергия поглощается либо прекурсором, либо добавляемым в смесь инертным газом сенсибилизатором, например SF6. Сильный негрев газа приводит к диссоциации прекурсора и образованию атомов металла, которые охлаждаются при столкновении с атомами инертного газа и агрегируют, формируя наночастицы.\n",
    "- **Струйный пиролиз**. Для получения наночастиц сформированные с помощью распылителя микрокапли раствора прекурсора инжектируются в горячую зону печи. Размер наночастиц зависит от температуры распылителя, относительного давления газов и температуры печи. Указанным способом были получены НЧ Cu.\n",
    "\n",
    "Заметим, что добавление соответствующих источник неметаллов или использованием вместо инертного газа смеси инертного газа с газообразным прекурсом неметалла можно получить наночастицы полупроводника.\n",
    "\n",
    "# Хмические методы синтеза металлических наночастиц\n",
    "- **Восстановление ионов металла**. Один из наиболее распространенных подходов к синтезу металлических наночастиц это восстановление металлов из их солей с ограничением роста нанокристаллов с помощью поверхностно-активных веществ  или ионов.\n",
    "    - *Восстановление боргидридом натрия*, известное с 1950-х гг., было одним из объектов исследования в [Манхэттенском проекте](https://ru.wikipedia.org/wiki/Манхэттенский_проект). Основная реакция состоит в гиролизи гедрида бора, сопровождаемом выделением водорода:\n",
    "    BH$_4^-$ + 2H$_2$O $\\rightarrow$ BO$_2^-$ + 4H$_2$.\n",
    "    - *Восстановление цитратом натрия* наиболее популярно для получения гирозолей Au. Синтез наночастиц этим методом основан на том, что золотохлористая кислота (HAuCl$_4$) при нагреве смешивается с раствором цитрата натрия (Na$_3$C$_6$H$_5$O$_7$). Возникновение у раствора характерного цвета красного вина указывает на протекание реакции восстановления. Метод также используется для получения наночастиц Pt, Ag.\n",
    "    - *Восстановление высокомолекулярными спиртами (полиолами)*, например, этиленгликолем используется для получения сравнительно крупных наночастиц с размерами от нескольких десятков нм до единиц микрометров. \n",
    "- **Фотохимический синтез**. Разложение светом металлических комплексов (фотолиз) или восстановление солей металлов за счет генерирования светом восстановителей, таких как сольватированные электроны (радиолиз). Так, например, при облучени ультрафиолетом HAuCl$_4$ в формамиде можно получить НЧ Au.\n",
    "- **Электрохимический синтез**. Метод представляет усовершенствование классического процесса электрообработки и включает следующие стадии: окислительное разложение анода, миграцию металлическию частиц на катод, восстановление ионов до нульвалентного состояния, формирование частиц за счет нуклеации и роста, остановку роста с помощью улавливающих веществ и осаждение частиц. Этим методом были получены металлические НЧ разного размера (начиная от 1—5 нм): Pd, Ni, Co, Fe, Ti, Ag и Au. При использовании двух анодов из соответствующих материалов [можно получать](https://pubs.acs.org/doi/10.1021/ja00095a051) и биметаллические частицы Pd-No, Fe-Co, Fe-Ni."
   ]
  },
  {
   "cell_type": "markdown",
   "metadata": {},
   "source": [
    "# Лабораторные практики: примеры коллоидного синтеза наночастиц благородных металлов\n",
    "\n",
    "## Коллоидный синтез наночастиц золота\n",
    "\n",
    "В представленном ниже видео показан процесс цитратного синтеза наночастиц золота. В плоскодонную колбу добавляется 20 мл водного 1.0 мМ раствора HAuCl4 и перемешивается на горячей плите магнитной мешалки. К нагретому раствору добавляется 2 мл 1% раствора цитрата натрия Na3C6H5O7. Коллоидный раствор золотых наночастицы образуется в результате восстановления золота цитратом натрия. После 10 мин. нагрева раствор приобретает насыщенный пурпурный цвет.\n",
    "\n",
    "Далее, чтобы показать, что раствор — коллоидный, экспериментатор пропускает через него лазерный луч, чтобы продемонстрировать [эффект Тиндаля](https://ru.wikipedia.org/wiki/%D0%AD%D1%84%D1%84%D0%B5%D0%BA%D1%82_%D0%A2%D0%B8%D0%BD%D0%B4%D0%B0%D0%BB%D1%8F). Чтобы показать, что частицы седементационно неустойчивы, в правую из двух пробирок с золем золота добавляется раствор хлорида натрия. При этом происходит изменение цвета, связанное с агрегацией частиц."
   ]
  },
  {
   "cell_type": "code",
   "execution_count": 1,
   "metadata": {},
   "outputs": [
    {
     "data": {
      "image/jpeg": "[encoded data removed]",
      "text/html": [
       "\n",
       "        <iframe\n",
       "            width=\"400\"\n",
       "            height=\"300\"\n",
       "            src=\"https://www.youtube.com/embed/urmi99jQSZY\"\n",
       "            frameborder=\"0\"\n",
       "            allowfullscreen\n",
       "        ></iframe>\n",
       "        "
      ],
      "text/plain": [
       "<IPython.lib.display.YouTubeVideo at 0x7f9ee85acbe0>"
      ]
     },
     "execution_count": 1,
     "metadata": {},
     "output_type": "execute_result"
    }
   ],
   "source": [
    "# Пример цитратного коллоидного синтеза наночастиц золота\n",
    "\n",
    "from IPython.lib.display import YouTubeVideo\n",
    "YouTubeVideo('urmi99jQSZY')"
   ]
  },
  {
   "cell_type": "markdown",
   "metadata": {},
   "source": [
    "## Коллоидный синтез наночастиц серебра восстановлением боргидридом\n",
    "\n",
    "В следующем видео показан процесс синтеза наночастиц серебра при помощи восстановления боргидридом натрия."
   ]
  },
  {
   "cell_type": "code",
   "execution_count": 2,
   "metadata": {},
   "outputs": [
    {
     "data": {
      "image/jpeg": "[encoded data removed]",
      "text/html": [
       "\n",
       "        <iframe\n",
       "            width=\"400\"\n",
       "            height=\"300\"\n",
       "            src=\"https://www.youtube.com/embed/L-GwpAJ9MJ0\"\n",
       "            frameborder=\"0\"\n",
       "            allowfullscreen\n",
       "        ></iframe>\n",
       "        "
      ],
      "text/plain": [
       "<IPython.lib.display.YouTubeVideo at 0x7f9ee8077ef0>"
      ]
     },
     "execution_count": 2,
     "metadata": {},
     "output_type": "execute_result"
    }
   ],
   "source": [
    "# Пример боргидридного коллоидного синтеза наночастиц серебра\n",
    "\n",
    "from IPython.lib.display import YouTubeVideo\n",
    "YouTubeVideo('L-GwpAJ9MJ0')"
   ]
  },
  {
   "cell_type": "markdown",
   "metadata": {},
   "source": [
    "Лазерная абляция."
   ]
  },
  {
   "cell_type": "markdown",
   "metadata": {},
   "source": [
    "<img src=\"Figs/ablation.png\">\n",
    "\n",
    "Рис. Схемы экспериментов по генерации НЧ методом лазерной абляции мишений в жидкостях: а) вертикальный лазерный пучок облучает мишень, находящуюся в открытой чашке Петри в направлении, перпендикулярном поверхности мишени, б) в горизонатальном направлении в закрытой кювете, и в) вращающуюся мишень"
   ]
  },
  {
   "cell_type": "code",
   "execution_count": 3,
   "metadata": {},
   "outputs": [
    {
     "data": {
      "image/jpeg": "[encoded data removed]",
      "text/html": [
       "\n",
       "        <iframe\n",
       "            width=\"400\"\n",
       "            height=\"300\"\n",
       "            src=\"https://www.youtube.com/embed/kOy0yuWpUzU\"\n",
       "            frameborder=\"0\"\n",
       "            allowfullscreen\n",
       "        ></iframe>\n",
       "        "
      ],
      "text/plain": [
       "<IPython.lib.display.YouTubeVideo at 0x7f9ee8077fd0>"
      ]
     },
     "execution_count": 3,
     "metadata": {},
     "output_type": "execute_result"
    }
   ],
   "source": [
    "# Иллюстрация процесса лазерной абляции на примере золота, серебра, титана, цинка и др. металлов\n",
    "\n",
    "from IPython.lib.display import YouTubeVideo\n",
    "YouTubeVideo('kOy0yuWpUzU')"
   ]
  },
  {
   "cell_type": "markdown",
   "metadata": {},
   "source": [
    "# Упражнения и задачи\n",
    "\n",
    "1. Для создания каталитического слоя низкотемпературного топливного элемента используют газопроницаемую углеродную бумагу, состоящую из углеродных волокон, на которую нанесены наночастицы платины. Наночастицы нанесены электроосаждением из электролита состава 0.1 M HClO$_4$ + 2 мM H$_2$PtCl$_6$ (площадь электрода S = 1 см$^2$ , потенциал 0.1 В относительно стандартного водородного электрода) в течение $t$ = 4 мин. Задания:\n",
    "    - Рассчитайте удельную массу осажденного металла (в мкг на см$^2$ подложки), если средняя сила тока $I$ составила 0.09 мА.\n",
    "    - Реальная поверхность полученного платинового покрытия, определенная электрохимически, составила 1.9 см$^2$. Рассчитайте удельную поверхность покрытия.\n",
    "    - Предполагая, что частицы платины имеют сферическую форму и образуют монослой на подложке, рассчитайте их средний диаметр $d$ [нм] и поверхностную плотность $N$ [см$^{-2}$].\n",
    "    - Для чего, помимо основного компонента H$_2$PtCl$_6$, в электролите присутствует и HClO$_4$?\n",
    "    - Как изменится плотность частиц платины $N$ при уменьшении\n",
    "потенциала электроосаждения?\n",
    "2. Известно, что горение наночастиц алюминия может сопровождаться мощным объемным взрывом. Определите какой объем кислорода потребуется для полного сгорания пробы частиц алюминия сферической формы с диаметром 10 нм и суммарной площадью поверхности 100 м2. Какое количество тепла выделится в результате объемного взрыва, вызванного горением этого количества наночастиц алюминия, если при горении 1 моль Al выделяется энергия 10,7 кДж. Плотность алюминия 2,7 г/см3.\n",
    "3. Паладиевый катализатор получен пропиткой мезопористого Al2O3 раствором Pd(NO3)2 с последующим отжигом при 400С. Масса Al2O3 после пропитки и отжига составляет 100,25 % от начальной массы. Рассчитайте количество активного вещества (моль), находящегося в 100 граммах катализатора.\n"
   ]
  },
  {
   "cell_type": "markdown",
   "metadata": {},
   "source": [
    "# Литература\n",
    "1. [Макаров Г. Н. Применение лазеров в нанотехнологии: получение наночастиц и наноструктур методами лазерной абляции и лазерной нанолитографии //Успехи физических наук. – 2013. – Т. 183. – №. 7. – С. 673-718.](https://www.ufn.ru/ufn13/ufn13_7/Russian/r137a.pdf)"
   ]
  },
  {
   "cell_type": "code",
   "execution_count": null,
   "metadata": {},
   "outputs": [],
   "source": []
  }
 ],
 "metadata": {
  "kernelspec": {
   "display_name": "Python 3",
   "language": "python",
   "name": "python3"
  },
  "language_info": {
   "codemirror_mode": {
    "name": "ipython",
    "version": 3
   },
   "file_extension": ".py",
   "mimetype": "text/x-python",
   "name": "python",
   "nbconvert_exporter": "python",
   "pygments_lexer": "ipython3",
   "version": "3.5.2"
  }
 },
 "nbformat": 4,
 "nbformat_minor": 2
}
